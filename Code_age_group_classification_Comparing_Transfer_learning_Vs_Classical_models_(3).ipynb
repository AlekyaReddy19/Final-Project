{
  "cells": [
    {
      "cell_type": "markdown",
      "source": [
        "import scipy\n",
        "print(scipy.__version__)"
      ],
      "metadata": {
        "id": "0crB2yKy7_oj"
      }
    },
    {
      "cell_type": "code",
      "source": [
        "!pip install scipy==1.11.4"
      ],
      "metadata": {
        "colab": {
          "base_uri": "https://localhost:8080/"
        },
        "id": "iI6WdYQu8NLn",
        "outputId": "894f275c-2037-4363-8447-ba00e678a3c7"
      },
      "execution_count": null,
      "outputs": [
        {
          "output_type": "stream",
          "name": "stdout",
          "text": [
            "Requirement already satisfied: scipy==1.11.4 in /usr/local/lib/python3.10/dist-packages (1.11.4)\n",
            "Requirement already satisfied: numpy<1.28.0,>=1.21.6 in /usr/local/lib/python3.10/dist-packages (from scipy==1.11.4) (1.26.4)\n"
          ]
        }
      ]
    },
    {
      "cell_type": "code",
      "source": [
        "import scipy\n",
        "print(scipy.__version__)"
      ],
      "metadata": {
        "colab": {
          "base_uri": "https://localhost:8080/"
        },
        "id": "QaEcotDoFtaX",
        "outputId": "0c68d69d-ba2c-4bea-c296-d043c72c531b"
      },
      "execution_count": null,
      "outputs": [
        {
          "output_type": "stream",
          "name": "stdout",
          "text": [
            "1.11.4\n"
          ]
        }
      ]
    },
    {
      "cell_type": "code",
      "source": [
        "pip install scikit-plot"
      ],
      "metadata": {
        "id": "36X7MPFG6qYY"
      },
      "execution_count": null,
      "outputs": []
    },
    {
      "cell_type": "markdown",
      "metadata": {
        "id": "PWlagweF7Jj8"
      },
      "source": [
        "\n",
        "---\n",
        "\n",
        "# Facial Feature Analysis for Age Group Classification Using UTKFace\n",
        "\n",
        "## Introduction\n",
        "\n",
        "- Recently, the field of facial recognition and analysis has gained significant attention, majory in applications related to age classification.\n",
        "- This notebook presents a comprehensive investigation **\"Facial Feature Analysis for Age Group Classification Using UTKFace: A Comparative Study of Classical Machine Learning Models and Pretrained Deep Learning Models.\"**\n",
        "- The primary research question guiding this investigation is: **“How do classical machine learning models compare to pretrained deep learning models in classifying age groups based on facial features extracted from the UTKFace dataset?”**\n",
        "\n",
        "- The goal of this project is to assess and compare the effectiveness of traditional machine learning techniques, such as Support Vector Machines (SVM), Random Forest, and Logistic Regression, against state-of-the-art pretrained deep learning models like VGG16 and ResNet50.\n",
        "- Through the use of UTKFace dataset, which consists of over 20,000 facial images annotated with age, gender, and ethnicity, we aim to uncover insights into the performance dynamics between classical and modern approaches to age classification.\n",
        "\n",
        "### Problem Statement\n",
        "\n",
        "- Facial images contains a wealth of information that can be analyzed for various demographic attributes, with age being a crucial aspect. The challenge lies in accurately classifying these age groups, especially given the complexities introduced by diverse facial features across different ages. By comparing classical and pretrained models, this study seeks to determine if traditional techniques can match or approximate the performance of more advanced methods in this domain.\n",
        "\n",
        "### Dataset Overview\n",
        "\n",
        "The **UTKFace dataset** is a large-scale collection of facial images with a wide age span, ranging from 0 to 116 years. It features over 20,000 images, annotated with age, gender, and ethnicity, making it an ideal candidate for this comparative analysis. The images in the dataset exhibit significant variations in pose, expression, and lighting, thus providing a rich foundation for model training and evaluation. The data can be access through https://www.kaggle.com/datasets/jangedoo/utkface-new/data\n",
        "\n",
        "### Methodology\n",
        "\n",
        "1. **Data Preprocessing and Exploration**: The UTKFace dataset will be loaded, preprocessed, and split into training, validation, and test sets.\n",
        "2. **Model Training**: Classical machine learning models will be trained on facial features extracted from the dataset, while pretrained deep learning models will be fine-tuned for the same task.\n",
        "3. **Model Evaluation**: The performance of each model will be evaluated using metrics such as accuracy, F1-score, precision, recall, Kappa, and ROC AUC.\n",
        "4. **Comparative Analysis**: Results will be compared to provide insights into the effectiveness of classical models relative to deep learning architectures.\n",
        "\n",
        "### Expected Results\n",
        "\n",
        "- For this study, the results will reveal critical insights regarding the strengths and weaknesses of classical machine learning models in the context of age group classification. The comparison is expected to highlight whether classical models can achieve comparable accuracy levels to their pretrained counterparts or if deep learning techniques prove superior in this specific application.\n",
        "\n",
        "\n",
        "\n",
        "---\n"
      ]
    },
    {
      "cell_type": "code",
      "execution_count": null,
      "metadata": {
        "id": "xpv6L5yc7Jj9"
      },
      "outputs": [],
      "source": [
        "\n",
        "# import libs\n",
        "\n",
        "# plotting and image view\n",
        "from tqdm import tqdm\n",
        "import matplotlib.pyplot as plt\n",
        "import scikitplot as skplt\n",
        "import seaborn as sns\n",
        "from PIL import Image\n",
        "\n",
        "# data manipulation\n",
        "import pandas as pd\n",
        "import numpy as np\n",
        "import os, glob, sys, cv2, gc\n",
        "import warnings\n",
        "\n",
        "\n",
        "\n",
        "\n",
        "# cnn models modules learning\n",
        "import tensorflow as tf\n",
        "from tensorflow.keras.layers import Dense, Conv2D, Dropout, Flatten, GlobalAveragePooling2D, MaxPooling2D, Input, InputLayer\n",
        "from tensorflow.keras.preprocessing.image import load_img\n",
        "from tensorflow.keras.models import Sequential\n",
        "from tensorflow.keras.applications.vgg16 import preprocess_input\n",
        "from tensorflow.keras.optimizers import Adam\n",
        "from tensorflow.keras.callbacks import EarlyStopping, ModelCheckpoint\n",
        "from tensorflow.keras.utils import to_categorical\n",
        "from tensorflow.keras.applications import VGG16, ResNet50\n",
        "from tensorflow.keras.models import Model\n",
        "\n",
        "\n",
        "# evaluation\n",
        "from sklearn.metrics import (\n",
        "    accuracy_score, precision_score, recall_score, cohen_kappa_score,\n",
        "    confusion_matrix, f1_score, classification_report, roc_auc_score\n",
        ")\n",
        "from sklearn.model_selection import train_test_split, KFold, StratifiedKFold\n",
        "from sklearn.preprocessing import LabelEncoder\n",
        "\n",
        "\n",
        "sns.set(style='whitegrid', palette='pastel', context='notebook')\n",
        "warnings.filterwarnings('ignore')\n",
        "%matplotlib inline"
      ]
    },
    {
      "cell_type": "code",
      "execution_count": null,
      "metadata": {
        "execution": {
          "iopub.execute_input": "2024-10-20T05:36:07.313946Z",
          "iopub.status.busy": "2024-10-20T05:36:07.313641Z",
          "iopub.status.idle": "2024-10-20T05:36:07.318909Z",
          "shell.execute_reply": "2024-10-20T05:36:07.317966Z",
          "shell.execute_reply.started": "2024-10-20T05:36:07.313887Z"
        },
        "id": "fVzJ5_dA7Jj9"
      },
      "outputs": [],
      "source": [
        "# plot settings\n",
        "plt.rcParams['font.weight'] = \"bold\"\n",
        "plt.rcParams['axes.titlesize'] = 16\n",
        "plt.rcParams['figure.figsize'] = [12, 8]\n",
        "plt.rcParams['axes.labelsize'] = 13\n",
        "plt.rcParams['font.size'] = 15\n"
      ]
    },
    {
      "cell_type": "code",
      "source": [
        "from google.colab import drive\n",
        "drive.mount('/content/drive')"
      ],
      "metadata": {
        "colab": {
          "base_uri": "https://localhost:8080/"
        },
        "id": "npM4gp1RBXGA",
        "outputId": "26251782-5944-452a-b60c-c20ca825282b"
      },
      "execution_count": null,
      "outputs": [
        {
          "output_type": "stream",
          "name": "stdout",
          "text": [
            "Mounted at /content/drive\n"
          ]
        }
      ]
    },
    {
      "cell_type": "code",
      "source": [
        "BASE_DIR = \"/content/drive/MyDrive/UTKFace\""
      ],
      "metadata": {
        "id": "tQvXHRglBcoM"
      },
      "execution_count": null,
      "outputs": []
    },
    {
      "cell_type": "code",
      "execution_count": null,
      "metadata": {
        "_uuid": "56aad5101f0dfa412fe09e99fc990f46e43276d9",
        "execution": {
          "iopub.execute_input": "2024-10-20T05:36:07.320967Z",
          "iopub.status.busy": "2024-10-20T05:36:07.320500Z",
          "iopub.status.idle": "2024-10-20T05:36:07.670630Z",
          "shell.execute_reply": "2024-10-20T05:36:07.669517Z",
          "shell.execute_reply.started": "2024-10-20T05:36:07.320743Z"
        },
        "id": "0nfXGE3Z7Jj9",
        "colab": {
          "base_uri": "https://localhost:8080/"
        },
        "outputId": "271ef4cc-793a-48fd-8fd8-3ae623aaa0bb"
      },
      "outputs": [
        {
          "output_type": "execute_result",
          "data": {
            "text/plain": [
              "1131"
            ]
          },
          "metadata": {},
          "execution_count": 15
        }
      ],
      "source": [
        "# check the data\n",
        "len(os.listdir(f\"{BASE_DIR}\"))"
      ]
    },
    {
      "cell_type": "code",
      "execution_count": null,
      "metadata": {
        "_uuid": "641b61f9d9b8a7f1b4200c21d04f15d99e8d9c36",
        "execution": {
          "iopub.execute_input": "2024-10-20T05:36:07.674424Z",
          "iopub.status.busy": "2024-10-20T05:36:07.674173Z",
          "iopub.status.idle": "2024-10-20T05:36:07.693787Z",
          "shell.execute_reply": "2024-10-20T05:36:07.692960Z",
          "shell.execute_reply.started": "2024-10-20T05:36:07.674380Z"
        },
        "id": "m0fMjn-a7Jj9",
        "colab": {
          "base_uri": "https://localhost:8080/"
        },
        "outputId": "32a0622a-9d89-4243-c9e8-d5eb95e1fcf9"
      },
      "outputs": [
        {
          "output_type": "execute_result",
          "data": {
            "text/plain": [
              "['86_0_1_20170120230044602.jpg.chip.jpg',\n",
              " '40_0_3_20170117135638072.jpg.chip.jpg',\n",
              " '2_1_0_20170109194422798.jpg.chip.jpg',\n",
              " '38_0_3_20170119202601638.jpg.chip.jpg']"
            ]
          },
          "metadata": {},
          "execution_count": 16
        }
      ],
      "source": [
        "# view sample images\n",
        "os.listdir(BASE_DIR)[-4:]"
      ]
    },
    {
      "cell_type": "markdown",
      "metadata": {
        "id": "63a4JFCb7Jj9"
      },
      "source": [
        "---\n",
        "\n",
        "### Extracting Labels from Image Filenames in the UTKFace Dataset\n",
        "\n",
        "In the UTKFace dataset, each face image filename contains the metadata that facilitates the classification tasks associated with age group analysis. The filenames follow a structured format that encodes specific attributes:\n",
        "\n",
        "- **Age**: shows an integer ranging from 0 to 116, this value indicates the age of the individual in the image.\n",
        "\n",
        "- **Gender**: The gender of the individual is encoded as a binary value, where `0` denotes male and `1` denotes female.\n",
        "\n",
        "- **Race**: The race is represented as an integer from 0 to 4, with each number corresponding to a specific racial category. The categories are as follows:\n",
        "  - `0`: White\n",
        "  - `1`: Black\n",
        "  - `2`: Asian\n",
        "  - `3`: Indian\n",
        "  - `4`: Others (includes individuals of mixed race or those who do not fit into the aforementioned categories, such as Hispanic, Latino, or Middle Eastern).\n",
        "\n",
        "- **Date & Time**: The date and time are embedded in the filename in the format `yyyymmddHHMMSSFFF`, providing precise temporal information about when the image was collected.\n",
        "\n",
        "\n",
        "**Example Filename**:  \n",
        "Consider the filename `66_0_1_20170117195116702.jpg.chip.jpg`. The components can be parsed as follows:\n",
        "- **Age**: 66\n",
        "- **Gender**: 0 (male)\n",
        "- **Race**: 1 (Black)\n",
        "- **Date & Time**: 2017-01-17 19:51:16.702\n",
        "\n",
        "---"
      ]
    },
    {
      "cell_type": "code",
      "execution_count": null,
      "metadata": {
        "id": "lggDYlQ97Jj-"
      },
      "outputs": [],
      "source": []
    },
    {
      "cell_type": "code",
      "execution_count": null,
      "metadata": {
        "execution": {
          "iopub.execute_input": "2024-10-20T05:36:07.695587Z",
          "iopub.status.busy": "2024-10-20T05:36:07.695249Z",
          "iopub.status.idle": "2024-10-20T05:36:07.704336Z",
          "shell.execute_reply": "2024-10-20T05:36:07.703391Z",
          "shell.execute_reply.started": "2024-10-20T05:36:07.695528Z"
        },
        "id": "qhE7JwiC7Jj-",
        "colab": {
          "base_uri": "https://localhost:8080/"
        },
        "outputId": "d642b8c2-9ee6-470e-dd44-126cfdd59af8"
      },
      "outputs": [
        {
          "output_type": "execute_result",
          "data": {
            "text/plain": [
              "(66, 'male', 'black')"
            ]
          },
          "metadata": {},
          "execution_count": 17
        }
      ],
      "source": [
        "# a function to get the parameters from the images\n",
        "def extract_image_info(path):\n",
        "    path_str = str(path)\n",
        "    # Split the path and extract components\n",
        "    components = path_str.split(\"_\")\n",
        "    age = int(components[0])\n",
        "    gender_code = int(components[1])\n",
        "    race_code = int(components[2])\n",
        "\n",
        "    # Map codes to gender and race\n",
        "    gender = \"male\" if gender_code == 0 else \"female\"\n",
        "    race_mapping = {0: \"white\", 1: \"black\", 2: \"asian\", 3: \"indian\"}\n",
        "    race = race_mapping.get(race_code, \"others\")\n",
        "    return age, gender, race\n",
        "\n",
        "\n",
        "#test on a sample\n",
        "extract_image_info(\"66_0_1_20170117195116702.jpg.chip.jpg\")"
      ]
    },
    {
      "cell_type": "code",
      "execution_count": null,
      "metadata": {
        "execution": {
          "iopub.execute_input": "2024-10-20T05:36:07.706247Z",
          "iopub.status.busy": "2024-10-20T05:36:07.705953Z",
          "iopub.status.idle": "2024-10-20T05:36:07.714541Z",
          "shell.execute_reply": "2024-10-20T05:36:07.713819Z",
          "shell.execute_reply.started": "2024-10-20T05:36:07.706191Z"
        },
        "id": "VwK5OpkJ7Jj-"
      },
      "outputs": [],
      "source": [
        "# now lets extract these information\n",
        "def extract_image_data(image_paths):\n",
        "    \"\"\"Extracts age, gender, and race from image filenames and returns a DataFrame.\"\"\"\n",
        "    image_data = []\n",
        "\n",
        "    for img_path in tqdm(image_paths, desc=\"Processing Images\"):\n",
        "        try:\n",
        "            # get filename and relevant info\n",
        "            filename = img_path.split(\"UTKFace/\")[-1]\n",
        "            age, gender, race = extract_image_info(filename)\n",
        "\n",
        "            # Append the extracted data\n",
        "            image_data.append([img_path, age, gender, race])\n",
        "        except Exception as e:\n",
        "            print(f\"Error processing {img_path}: {e}\")\n",
        "\n",
        "    # get as a df list to DataFrame\n",
        "    return pd.DataFrame(image_data, columns=[\"Image_Path\", \"Age\", \"Gender\", \"Race\"]).sample(frac=1, random_state=2024)\n"
      ]
    },
    {
      "cell_type": "code",
      "execution_count": null,
      "metadata": {
        "_cell_guid": "79c7e3d0-c299-4dcb-8224-4455121ee9b0",
        "_uuid": "d629ff2d2480ee46fbb7e2d37f6b5fab8052498a",
        "execution": {
          "iopub.execute_input": "2024-10-20T05:36:07.716294Z",
          "iopub.status.busy": "2024-10-20T05:36:07.716010Z",
          "iopub.status.idle": "2024-10-20T05:36:07.952039Z",
          "shell.execute_reply": "2024-10-20T05:36:07.951357Z",
          "shell.execute_reply.started": "2024-10-20T05:36:07.716240Z"
        },
        "id": "8DqWrDXB7Jj-",
        "colab": {
          "base_uri": "https://localhost:8080/"
        },
        "outputId": "85a333d4-e6c7-43b0-fde8-d30a4d54c005"
      },
      "outputs": [
        {
          "output_type": "stream",
          "name": "stderr",
          "text": [
            "Processing Images: 100%|██████████| 1181/1181 [00:00<00:00, 91394.18it/s]\n"
          ]
        }
      ],
      "source": [
        "# get the paths\n",
        "image_paths = glob.glob(f\"{BASE_DIR}/*.jpg\")\n",
        "\n",
        "# create a data for the paths\n",
        "df = extract_image_data(image_paths)\n"
      ]
    },
    {
      "cell_type": "code",
      "execution_count": null,
      "metadata": {
        "_uuid": "d7463952b96a7f35c73d81578d2390587cdad04f",
        "execution": {
          "iopub.execute_input": "2024-10-20T05:36:07.953972Z",
          "iopub.status.busy": "2024-10-20T05:36:07.953722Z",
          "iopub.status.idle": "2024-10-20T05:36:07.984562Z",
          "shell.execute_reply": "2024-10-20T05:36:07.983759Z",
          "shell.execute_reply.started": "2024-10-20T05:36:07.953922Z"
        },
        "id": "V7I9qcjo7Jj-",
        "colab": {
          "base_uri": "https://localhost:8080/",
          "height": 426
        },
        "outputId": "a1a22f54-5224-49a5-b7e5-44bcc04f7da1"
      },
      "outputs": [
        {
          "output_type": "execute_result",
          "data": {
            "text/plain": [
              "                                             Image_Path  Age  Gender    Race\n",
              "1125  /content/drive/MyDrive/UTKFace/27_1_0_20170103...   27  female   white\n",
              "27    /content/drive/MyDrive/UTKFace/1_1_1_201701091...    1  female   black\n",
              "1     /content/drive/MyDrive/UTKFace/26_1_0_20170117...   26  female   white\n",
              "232   /content/drive/MyDrive/UTKFace/26_1_0_20170116...   26  female   white\n",
              "665   /content/drive/MyDrive/UTKFace/46_0_3_20170119...   46    male  indian\n",
              "428   /content/drive/MyDrive/UTKFace/31_0_1_20170113...   31    male   black\n",
              "1037  /content/drive/MyDrive/UTKFace/16_0_4_20170102...   16    male  others\n",
              "1043  /content/drive/MyDrive/UTKFace/16_1_3_20170109...   16  female  indian\n",
              "141   /content/drive/MyDrive/UTKFace/24_1_2_20170116...   24  female   asian\n",
              "188   /content/drive/MyDrive/UTKFace/25_1_1_20170117...   25  female   black\n",
              "110   /content/drive/MyDrive/UTKFace/24_0_2_20170103...   24    male   asian\n",
              "394   /content/drive/MyDrive/UTKFace/2_1_1_201701091...    2  female   black"
            ],
            "text/html": [
              "\n",
              "  <div id=\"df-708255e7-7a06-4c3e-9ded-cc203738f7c7\" class=\"colab-df-container\">\n",
              "    <div>\n",
              "<style scoped>\n",
              "    .dataframe tbody tr th:only-of-type {\n",
              "        vertical-align: middle;\n",
              "    }\n",
              "\n",
              "    .dataframe tbody tr th {\n",
              "        vertical-align: top;\n",
              "    }\n",
              "\n",
              "    .dataframe thead th {\n",
              "        text-align: right;\n",
              "    }\n",
              "</style>\n",
              "<table border=\"1\" class=\"dataframe\">\n",
              "  <thead>\n",
              "    <tr style=\"text-align: right;\">\n",
              "      <th></th>\n",
              "      <th>Image_Path</th>\n",
              "      <th>Age</th>\n",
              "      <th>Gender</th>\n",
              "      <th>Race</th>\n",
              "    </tr>\n",
              "  </thead>\n",
              "  <tbody>\n",
              "    <tr>\n",
              "      <th>1125</th>\n",
              "      <td>/content/drive/MyDrive/UTKFace/27_1_0_20170103...</td>\n",
              "      <td>27</td>\n",
              "      <td>female</td>\n",
              "      <td>white</td>\n",
              "    </tr>\n",
              "    <tr>\n",
              "      <th>27</th>\n",
              "      <td>/content/drive/MyDrive/UTKFace/1_1_1_201701091...</td>\n",
              "      <td>1</td>\n",
              "      <td>female</td>\n",
              "      <td>black</td>\n",
              "    </tr>\n",
              "    <tr>\n",
              "      <th>1</th>\n",
              "      <td>/content/drive/MyDrive/UTKFace/26_1_0_20170117...</td>\n",
              "      <td>26</td>\n",
              "      <td>female</td>\n",
              "      <td>white</td>\n",
              "    </tr>\n",
              "    <tr>\n",
              "      <th>232</th>\n",
              "      <td>/content/drive/MyDrive/UTKFace/26_1_0_20170116...</td>\n",
              "      <td>26</td>\n",
              "      <td>female</td>\n",
              "      <td>white</td>\n",
              "    </tr>\n",
              "    <tr>\n",
              "      <th>665</th>\n",
              "      <td>/content/drive/MyDrive/UTKFace/46_0_3_20170119...</td>\n",
              "      <td>46</td>\n",
              "      <td>male</td>\n",
              "      <td>indian</td>\n",
              "    </tr>\n",
              "    <tr>\n",
              "      <th>428</th>\n",
              "      <td>/content/drive/MyDrive/UTKFace/31_0_1_20170113...</td>\n",
              "      <td>31</td>\n",
              "      <td>male</td>\n",
              "      <td>black</td>\n",
              "    </tr>\n",
              "    <tr>\n",
              "      <th>1037</th>\n",
              "      <td>/content/drive/MyDrive/UTKFace/16_0_4_20170102...</td>\n",
              "      <td>16</td>\n",
              "      <td>male</td>\n",
              "      <td>others</td>\n",
              "    </tr>\n",
              "    <tr>\n",
              "      <th>1043</th>\n",
              "      <td>/content/drive/MyDrive/UTKFace/16_1_3_20170109...</td>\n",
              "      <td>16</td>\n",
              "      <td>female</td>\n",
              "      <td>indian</td>\n",
              "    </tr>\n",
              "    <tr>\n",
              "      <th>141</th>\n",
              "      <td>/content/drive/MyDrive/UTKFace/24_1_2_20170116...</td>\n",
              "      <td>24</td>\n",
              "      <td>female</td>\n",
              "      <td>asian</td>\n",
              "    </tr>\n",
              "    <tr>\n",
              "      <th>188</th>\n",
              "      <td>/content/drive/MyDrive/UTKFace/25_1_1_20170117...</td>\n",
              "      <td>25</td>\n",
              "      <td>female</td>\n",
              "      <td>black</td>\n",
              "    </tr>\n",
              "    <tr>\n",
              "      <th>110</th>\n",
              "      <td>/content/drive/MyDrive/UTKFace/24_0_2_20170103...</td>\n",
              "      <td>24</td>\n",
              "      <td>male</td>\n",
              "      <td>asian</td>\n",
              "    </tr>\n",
              "    <tr>\n",
              "      <th>394</th>\n",
              "      <td>/content/drive/MyDrive/UTKFace/2_1_1_201701091...</td>\n",
              "      <td>2</td>\n",
              "      <td>female</td>\n",
              "      <td>black</td>\n",
              "    </tr>\n",
              "  </tbody>\n",
              "</table>\n",
              "</div>\n",
              "    <div class=\"colab-df-buttons\">\n",
              "\n",
              "  <div class=\"colab-df-container\">\n",
              "    <button class=\"colab-df-convert\" onclick=\"convertToInteractive('df-708255e7-7a06-4c3e-9ded-cc203738f7c7')\"\n",
              "            title=\"Convert this dataframe to an interactive table.\"\n",
              "            style=\"display:none;\">\n",
              "\n",
              "  <svg xmlns=\"http://www.w3.org/2000/svg\" height=\"24px\" viewBox=\"0 -960 960 960\">\n",
              "    <path d=\"M120-120v-720h720v720H120Zm60-500h600v-160H180v160Zm220 220h160v-160H400v160Zm0 220h160v-160H400v160ZM180-400h160v-160H180v160Zm440 0h160v-160H620v160ZM180-180h160v-160H180v160Zm440 0h160v-160H620v160Z\"/>\n",
              "  </svg>\n",
              "    </button>\n",
              "\n",
              "  <style>\n",
              "    .colab-df-container {\n",
              "      display:flex;\n",
              "      gap: 12px;\n",
              "    }\n",
              "\n",
              "    .colab-df-convert {\n",
              "      background-color: #E8F0FE;\n",
              "      border: none;\n",
              "      border-radius: 50%;\n",
              "      cursor: pointer;\n",
              "      display: none;\n",
              "      fill: #1967D2;\n",
              "      height: 32px;\n",
              "      padding: 0 0 0 0;\n",
              "      width: 32px;\n",
              "    }\n",
              "\n",
              "    .colab-df-convert:hover {\n",
              "      background-color: #E2EBFA;\n",
              "      box-shadow: 0px 1px 2px rgba(60, 64, 67, 0.3), 0px 1px 3px 1px rgba(60, 64, 67, 0.15);\n",
              "      fill: #174EA6;\n",
              "    }\n",
              "\n",
              "    .colab-df-buttons div {\n",
              "      margin-bottom: 4px;\n",
              "    }\n",
              "\n",
              "    [theme=dark] .colab-df-convert {\n",
              "      background-color: #3B4455;\n",
              "      fill: #D2E3FC;\n",
              "    }\n",
              "\n",
              "    [theme=dark] .colab-df-convert:hover {\n",
              "      background-color: #434B5C;\n",
              "      box-shadow: 0px 1px 3px 1px rgba(0, 0, 0, 0.15);\n",
              "      filter: drop-shadow(0px 1px 2px rgba(0, 0, 0, 0.3));\n",
              "      fill: #FFFFFF;\n",
              "    }\n",
              "  </style>\n",
              "\n",
              "    <script>\n",
              "      const buttonEl =\n",
              "        document.querySelector('#df-708255e7-7a06-4c3e-9ded-cc203738f7c7 button.colab-df-convert');\n",
              "      buttonEl.style.display =\n",
              "        google.colab.kernel.accessAllowed ? 'block' : 'none';\n",
              "\n",
              "      async function convertToInteractive(key) {\n",
              "        const element = document.querySelector('#df-708255e7-7a06-4c3e-9ded-cc203738f7c7');\n",
              "        const dataTable =\n",
              "          await google.colab.kernel.invokeFunction('convertToInteractive',\n",
              "                                                    [key], {});\n",
              "        if (!dataTable) return;\n",
              "\n",
              "        const docLinkHtml = 'Like what you see? Visit the ' +\n",
              "          '<a target=\"_blank\" href=https://colab.research.google.com/notebooks/data_table.ipynb>data table notebook</a>'\n",
              "          + ' to learn more about interactive tables.';\n",
              "        element.innerHTML = '';\n",
              "        dataTable['output_type'] = 'display_data';\n",
              "        await google.colab.output.renderOutput(dataTable, element);\n",
              "        const docLink = document.createElement('div');\n",
              "        docLink.innerHTML = docLinkHtml;\n",
              "        element.appendChild(docLink);\n",
              "      }\n",
              "    </script>\n",
              "  </div>\n",
              "\n",
              "\n",
              "<div id=\"df-e4bc0ba0-75e5-448b-9242-caebd3cb1e8b\">\n",
              "  <button class=\"colab-df-quickchart\" onclick=\"quickchart('df-e4bc0ba0-75e5-448b-9242-caebd3cb1e8b')\"\n",
              "            title=\"Suggest charts\"\n",
              "            style=\"display:none;\">\n",
              "\n",
              "<svg xmlns=\"http://www.w3.org/2000/svg\" height=\"24px\"viewBox=\"0 0 24 24\"\n",
              "     width=\"24px\">\n",
              "    <g>\n",
              "        <path d=\"M19 3H5c-1.1 0-2 .9-2 2v14c0 1.1.9 2 2 2h14c1.1 0 2-.9 2-2V5c0-1.1-.9-2-2-2zM9 17H7v-7h2v7zm4 0h-2V7h2v10zm4 0h-2v-4h2v4z\"/>\n",
              "    </g>\n",
              "</svg>\n",
              "  </button>\n",
              "\n",
              "<style>\n",
              "  .colab-df-quickchart {\n",
              "      --bg-color: #E8F0FE;\n",
              "      --fill-color: #1967D2;\n",
              "      --hover-bg-color: #E2EBFA;\n",
              "      --hover-fill-color: #174EA6;\n",
              "      --disabled-fill-color: #AAA;\n",
              "      --disabled-bg-color: #DDD;\n",
              "  }\n",
              "\n",
              "  [theme=dark] .colab-df-quickchart {\n",
              "      --bg-color: #3B4455;\n",
              "      --fill-color: #D2E3FC;\n",
              "      --hover-bg-color: #434B5C;\n",
              "      --hover-fill-color: #FFFFFF;\n",
              "      --disabled-bg-color: #3B4455;\n",
              "      --disabled-fill-color: #666;\n",
              "  }\n",
              "\n",
              "  .colab-df-quickchart {\n",
              "    background-color: var(--bg-color);\n",
              "    border: none;\n",
              "    border-radius: 50%;\n",
              "    cursor: pointer;\n",
              "    display: none;\n",
              "    fill: var(--fill-color);\n",
              "    height: 32px;\n",
              "    padding: 0;\n",
              "    width: 32px;\n",
              "  }\n",
              "\n",
              "  .colab-df-quickchart:hover {\n",
              "    background-color: var(--hover-bg-color);\n",
              "    box-shadow: 0 1px 2px rgba(60, 64, 67, 0.3), 0 1px 3px 1px rgba(60, 64, 67, 0.15);\n",
              "    fill: var(--button-hover-fill-color);\n",
              "  }\n",
              "\n",
              "  .colab-df-quickchart-complete:disabled,\n",
              "  .colab-df-quickchart-complete:disabled:hover {\n",
              "    background-color: var(--disabled-bg-color);\n",
              "    fill: var(--disabled-fill-color);\n",
              "    box-shadow: none;\n",
              "  }\n",
              "\n",
              "  .colab-df-spinner {\n",
              "    border: 2px solid var(--fill-color);\n",
              "    border-color: transparent;\n",
              "    border-bottom-color: var(--fill-color);\n",
              "    animation:\n",
              "      spin 1s steps(1) infinite;\n",
              "  }\n",
              "\n",
              "  @keyframes spin {\n",
              "    0% {\n",
              "      border-color: transparent;\n",
              "      border-bottom-color: var(--fill-color);\n",
              "      border-left-color: var(--fill-color);\n",
              "    }\n",
              "    20% {\n",
              "      border-color: transparent;\n",
              "      border-left-color: var(--fill-color);\n",
              "      border-top-color: var(--fill-color);\n",
              "    }\n",
              "    30% {\n",
              "      border-color: transparent;\n",
              "      border-left-color: var(--fill-color);\n",
              "      border-top-color: var(--fill-color);\n",
              "      border-right-color: var(--fill-color);\n",
              "    }\n",
              "    40% {\n",
              "      border-color: transparent;\n",
              "      border-right-color: var(--fill-color);\n",
              "      border-top-color: var(--fill-color);\n",
              "    }\n",
              "    60% {\n",
              "      border-color: transparent;\n",
              "      border-right-color: var(--fill-color);\n",
              "    }\n",
              "    80% {\n",
              "      border-color: transparent;\n",
              "      border-right-color: var(--fill-color);\n",
              "      border-bottom-color: var(--fill-color);\n",
              "    }\n",
              "    90% {\n",
              "      border-color: transparent;\n",
              "      border-bottom-color: var(--fill-color);\n",
              "    }\n",
              "  }\n",
              "</style>\n",
              "\n",
              "  <script>\n",
              "    async function quickchart(key) {\n",
              "      const quickchartButtonEl =\n",
              "        document.querySelector('#' + key + ' button');\n",
              "      quickchartButtonEl.disabled = true;  // To prevent multiple clicks.\n",
              "      quickchartButtonEl.classList.add('colab-df-spinner');\n",
              "      try {\n",
              "        const charts = await google.colab.kernel.invokeFunction(\n",
              "            'suggestCharts', [key], {});\n",
              "      } catch (error) {\n",
              "        console.error('Error during call to suggestCharts:', error);\n",
              "      }\n",
              "      quickchartButtonEl.classList.remove('colab-df-spinner');\n",
              "      quickchartButtonEl.classList.add('colab-df-quickchart-complete');\n",
              "    }\n",
              "    (() => {\n",
              "      let quickchartButtonEl =\n",
              "        document.querySelector('#df-e4bc0ba0-75e5-448b-9242-caebd3cb1e8b button');\n",
              "      quickchartButtonEl.style.display =\n",
              "        google.colab.kernel.accessAllowed ? 'block' : 'none';\n",
              "    })();\n",
              "  </script>\n",
              "</div>\n",
              "\n",
              "    </div>\n",
              "  </div>\n"
            ],
            "application/vnd.google.colaboratory.intrinsic+json": {
              "type": "dataframe",
              "variable_name": "df",
              "summary": "{\n  \"name\": \"df\",\n  \"rows\": 1181,\n  \"fields\": [\n    {\n      \"column\": \"Image_Path\",\n      \"properties\": {\n        \"dtype\": \"string\",\n        \"num_unique_values\": 1181,\n        \"samples\": [\n          \"/content/drive/MyDrive/UTKFace/35_0_0_20170119200935316.jpg.chip.jpg\",\n          \"/content/drive/MyDrive/UTKFace/26_0_1_20170116220218880.jpg.chip.jpg\",\n          \"/content/drive/MyDrive/UTKFace/30_0_2_20170119204746406.jpg.chip.jpg\"\n        ],\n        \"semantic_type\": \"\",\n        \"description\": \"\"\n      }\n    },\n    {\n      \"column\": \"Age\",\n      \"properties\": {\n        \"dtype\": \"number\",\n        \"std\": 19,\n        \"min\": 1,\n        \"max\": 100,\n        \"num_unique_values\": 88,\n        \"samples\": [\n          44,\n          27,\n          18\n        ],\n        \"semantic_type\": \"\",\n        \"description\": \"\"\n      }\n    },\n    {\n      \"column\": \"Gender\",\n      \"properties\": {\n        \"dtype\": \"category\",\n        \"num_unique_values\": 2,\n        \"samples\": [\n          \"male\",\n          \"female\"\n        ],\n        \"semantic_type\": \"\",\n        \"description\": \"\"\n      }\n    },\n    {\n      \"column\": \"Race\",\n      \"properties\": {\n        \"dtype\": \"category\",\n        \"num_unique_values\": 5,\n        \"samples\": [\n          \"black\",\n          \"asian\"\n        ],\n        \"semantic_type\": \"\",\n        \"description\": \"\"\n      }\n    }\n  ]\n}"
            }
          },
          "metadata": {},
          "execution_count": 20
        }
      ],
      "source": [
        "# check a sample of them\n",
        "df.head(12)"
      ]
    },
    {
      "cell_type": "code",
      "execution_count": null,
      "metadata": {
        "_uuid": "b5ec5902633650fa48a6d4c675a3cfec964eed6e",
        "id": "p6ADk_CW7Jj-"
      },
      "outputs": [],
      "source": []
    },
    {
      "cell_type": "markdown",
      "metadata": {
        "id": "Z63o5LAU7Jj-"
      },
      "source": [
        "## Age Grouping Strategy for UTKFace Dataset\n",
        "\n",
        "- As from the study, we will categorize the age data into distinct **age groups** to facilitate more meaningful insights into how well classical machine learning models and pretrained deep learning models classify facial features.\n",
        "- The motive of the grouping ages in specific ranges is based on **human development stages** and their relevance to **facial feature changes** over time which is majory over all races.\n",
        "- The following are the groups in which are going to be created based on the age column.\n",
        "\n",
        "    1. **Children (1-14) – Class 0:**  \n",
        "       This group represents is the first life of a person where the facial features are still developing.\n",
        "\n",
        "    2. **Youth (14-25) – Class 1:**  \n",
        "       Youth is characterized by the transition from adolescence to early adulthood. Facial features stabilize but continue to undergo subtle changes. The group might pose more challenges to the models as it is an overlap of both adolescence and young adulthood.\n",
        "\n",
        "    3. **Adults (25-40) – Class 2:**  \n",
        "       This range marks the peak of physical maturity, with facial features remaining relatively stable. Models might be very good at these stage since there is less variability of appearance within the range.\n",
        "\n",
        "    4. **Middle Age (40-60) – Class 3:**  \n",
        "       Middle age introduces visible signs of aging i.e the wrinkles and changes in skin texture start to develop. This group allows us to explore how well models can detect and classify these aging characteristics.\n",
        "\n",
        "    5. **Very Old (>60) – Class 4:**  \n",
        "       The final group includes individuals over 60, where aging becomes more prominent. The models must accurately classify features associated with advanced aging i.e sagging skin and deep wrinkles.\n",
        "\n",
        "\n",
        "- The above selected age groups align with key **developmental phases** and **physical changes** that are likely to impact facial recognition."
      ]
    },
    {
      "cell_type": "code",
      "execution_count": null,
      "metadata": {
        "execution": {
          "iopub.execute_input": "2024-10-20T05:36:07.986106Z",
          "iopub.status.busy": "2024-10-20T05:36:07.985773Z",
          "iopub.status.idle": "2024-10-20T05:36:08.013752Z",
          "shell.execute_reply": "2024-10-20T05:36:08.012642Z",
          "shell.execute_reply.started": "2024-10-20T05:36:07.986039Z"
        },
        "id": "QuRjB_CL7Jj-"
      },
      "outputs": [],
      "source": [
        "def create_age_group(age):\n",
        "    \"\"\"Categorize age into predefined age groups.\"\"\"\n",
        "    if 1 <= age < 14:\n",
        "        return 'Children'\n",
        "    elif 14 <= age < 25:\n",
        "        return 'Youth'\n",
        "    elif 25 <= age < 40:\n",
        "        return 'Adults'\n",
        "    elif 40 <= age < 60:\n",
        "        return 'Middle Age'\n",
        "    elif age >= 60:\n",
        "        return 'Very Old'\n",
        "    else:\n",
        "        return 'Unknown'\n",
        "\n",
        "# apply the function\n",
        "df['Age_Group'] = df['Age'].apply(create_age_group)\n"
      ]
    },
    {
      "cell_type": "code",
      "execution_count": null,
      "metadata": {
        "execution": {
          "iopub.execute_input": "2024-10-20T05:36:08.015465Z",
          "iopub.status.busy": "2024-10-20T05:36:08.015157Z",
          "iopub.status.idle": "2024-10-20T05:36:08.041648Z",
          "shell.execute_reply": "2024-10-20T05:36:08.040569Z",
          "shell.execute_reply.started": "2024-10-20T05:36:08.015406Z"
        },
        "id": "oHb90-x97Jj-",
        "colab": {
          "base_uri": "https://localhost:8080/",
          "height": 206
        },
        "outputId": "92062e41-233b-4d26-e86e-4e8bca91d1c9"
      },
      "outputs": [
        {
          "output_type": "execute_result",
          "data": {
            "text/plain": [
              "                                             Image_Path  Age  Gender    Race  \\\n",
              "1125  /content/drive/MyDrive/UTKFace/27_1_0_20170103...   27  female   white   \n",
              "27    /content/drive/MyDrive/UTKFace/1_1_1_201701091...    1  female   black   \n",
              "1     /content/drive/MyDrive/UTKFace/26_1_0_20170117...   26  female   white   \n",
              "232   /content/drive/MyDrive/UTKFace/26_1_0_20170116...   26  female   white   \n",
              "665   /content/drive/MyDrive/UTKFace/46_0_3_20170119...   46    male  indian   \n",
              "\n",
              "       Age_Group  \n",
              "1125      Adults  \n",
              "27      Children  \n",
              "1         Adults  \n",
              "232       Adults  \n",
              "665   Middle Age  "
            ],
            "text/html": [
              "\n",
              "  <div id=\"df-5827dcc5-7abc-4088-b27c-d36af91a6d19\" class=\"colab-df-container\">\n",
              "    <div>\n",
              "<style scoped>\n",
              "    .dataframe tbody tr th:only-of-type {\n",
              "        vertical-align: middle;\n",
              "    }\n",
              "\n",
              "    .dataframe tbody tr th {\n",
              "        vertical-align: top;\n",
              "    }\n",
              "\n",
              "    .dataframe thead th {\n",
              "        text-align: right;\n",
              "    }\n",
              "</style>\n",
              "<table border=\"1\" class=\"dataframe\">\n",
              "  <thead>\n",
              "    <tr style=\"text-align: right;\">\n",
              "      <th></th>\n",
              "      <th>Image_Path</th>\n",
              "      <th>Age</th>\n",
              "      <th>Gender</th>\n",
              "      <th>Race</th>\n",
              "      <th>Age_Group</th>\n",
              "    </tr>\n",
              "  </thead>\n",
              "  <tbody>\n",
              "    <tr>\n",
              "      <th>1125</th>\n",
              "      <td>/content/drive/MyDrive/UTKFace/27_1_0_20170103...</td>\n",
              "      <td>27</td>\n",
              "      <td>female</td>\n",
              "      <td>white</td>\n",
              "      <td>Adults</td>\n",
              "    </tr>\n",
              "    <tr>\n",
              "      <th>27</th>\n",
              "      <td>/content/drive/MyDrive/UTKFace/1_1_1_201701091...</td>\n",
              "      <td>1</td>\n",
              "      <td>female</td>\n",
              "      <td>black</td>\n",
              "      <td>Children</td>\n",
              "    </tr>\n",
              "    <tr>\n",
              "      <th>1</th>\n",
              "      <td>/content/drive/MyDrive/UTKFace/26_1_0_20170117...</td>\n",
              "      <td>26</td>\n",
              "      <td>female</td>\n",
              "      <td>white</td>\n",
              "      <td>Adults</td>\n",
              "    </tr>\n",
              "    <tr>\n",
              "      <th>232</th>\n",
              "      <td>/content/drive/MyDrive/UTKFace/26_1_0_20170116...</td>\n",
              "      <td>26</td>\n",
              "      <td>female</td>\n",
              "      <td>white</td>\n",
              "      <td>Adults</td>\n",
              "    </tr>\n",
              "    <tr>\n",
              "      <th>665</th>\n",
              "      <td>/content/drive/MyDrive/UTKFace/46_0_3_20170119...</td>\n",
              "      <td>46</td>\n",
              "      <td>male</td>\n",
              "      <td>indian</td>\n",
              "      <td>Middle Age</td>\n",
              "    </tr>\n",
              "  </tbody>\n",
              "</table>\n",
              "</div>\n",
              "    <div class=\"colab-df-buttons\">\n",
              "\n",
              "  <div class=\"colab-df-container\">\n",
              "    <button class=\"colab-df-convert\" onclick=\"convertToInteractive('df-5827dcc5-7abc-4088-b27c-d36af91a6d19')\"\n",
              "            title=\"Convert this dataframe to an interactive table.\"\n",
              "            style=\"display:none;\">\n",
              "\n",
              "  <svg xmlns=\"http://www.w3.org/2000/svg\" height=\"24px\" viewBox=\"0 -960 960 960\">\n",
              "    <path d=\"M120-120v-720h720v720H120Zm60-500h600v-160H180v160Zm220 220h160v-160H400v160Zm0 220h160v-160H400v160ZM180-400h160v-160H180v160Zm440 0h160v-160H620v160ZM180-180h160v-160H180v160Zm440 0h160v-160H620v160Z\"/>\n",
              "  </svg>\n",
              "    </button>\n",
              "\n",
              "  <style>\n",
              "    .colab-df-container {\n",
              "      display:flex;\n",
              "      gap: 12px;\n",
              "    }\n",
              "\n",
              "    .colab-df-convert {\n",
              "      background-color: #E8F0FE;\n",
              "      border: none;\n",
              "      border-radius: 50%;\n",
              "      cursor: pointer;\n",
              "      display: none;\n",
              "      fill: #1967D2;\n",
              "      height: 32px;\n",
              "      padding: 0 0 0 0;\n",
              "      width: 32px;\n",
              "    }\n",
              "\n",
              "    .colab-df-convert:hover {\n",
              "      background-color: #E2EBFA;\n",
              "      box-shadow: 0px 1px 2px rgba(60, 64, 67, 0.3), 0px 1px 3px 1px rgba(60, 64, 67, 0.15);\n",
              "      fill: #174EA6;\n",
              "    }\n",
              "\n",
              "    .colab-df-buttons div {\n",
              "      margin-bottom: 4px;\n",
              "    }\n",
              "\n",
              "    [theme=dark] .colab-df-convert {\n",
              "      background-color: #3B4455;\n",
              "      fill: #D2E3FC;\n",
              "    }\n",
              "\n",
              "    [theme=dark] .colab-df-convert:hover {\n",
              "      background-color: #434B5C;\n",
              "      box-shadow: 0px 1px 3px 1px rgba(0, 0, 0, 0.15);\n",
              "      filter: drop-shadow(0px 1px 2px rgba(0, 0, 0, 0.3));\n",
              "      fill: #FFFFFF;\n",
              "    }\n",
              "  </style>\n",
              "\n",
              "    <script>\n",
              "      const buttonEl =\n",
              "        document.querySelector('#df-5827dcc5-7abc-4088-b27c-d36af91a6d19 button.colab-df-convert');\n",
              "      buttonEl.style.display =\n",
              "        google.colab.kernel.accessAllowed ? 'block' : 'none';\n",
              "\n",
              "      async function convertToInteractive(key) {\n",
              "        const element = document.querySelector('#df-5827dcc5-7abc-4088-b27c-d36af91a6d19');\n",
              "        const dataTable =\n",
              "          await google.colab.kernel.invokeFunction('convertToInteractive',\n",
              "                                                    [key], {});\n",
              "        if (!dataTable) return;\n",
              "\n",
              "        const docLinkHtml = 'Like what you see? Visit the ' +\n",
              "          '<a target=\"_blank\" href=https://colab.research.google.com/notebooks/data_table.ipynb>data table notebook</a>'\n",
              "          + ' to learn more about interactive tables.';\n",
              "        element.innerHTML = '';\n",
              "        dataTable['output_type'] = 'display_data';\n",
              "        await google.colab.output.renderOutput(dataTable, element);\n",
              "        const docLink = document.createElement('div');\n",
              "        docLink.innerHTML = docLinkHtml;\n",
              "        element.appendChild(docLink);\n",
              "      }\n",
              "    </script>\n",
              "  </div>\n",
              "\n",
              "\n",
              "<div id=\"df-8152410e-7fa6-446c-b74d-0791dd89eab1\">\n",
              "  <button class=\"colab-df-quickchart\" onclick=\"quickchart('df-8152410e-7fa6-446c-b74d-0791dd89eab1')\"\n",
              "            title=\"Suggest charts\"\n",
              "            style=\"display:none;\">\n",
              "\n",
              "<svg xmlns=\"http://www.w3.org/2000/svg\" height=\"24px\"viewBox=\"0 0 24 24\"\n",
              "     width=\"24px\">\n",
              "    <g>\n",
              "        <path d=\"M19 3H5c-1.1 0-2 .9-2 2v14c0 1.1.9 2 2 2h14c1.1 0 2-.9 2-2V5c0-1.1-.9-2-2-2zM9 17H7v-7h2v7zm4 0h-2V7h2v10zm4 0h-2v-4h2v4z\"/>\n",
              "    </g>\n",
              "</svg>\n",
              "  </button>\n",
              "\n",
              "<style>\n",
              "  .colab-df-quickchart {\n",
              "      --bg-color: #E8F0FE;\n",
              "      --fill-color: #1967D2;\n",
              "      --hover-bg-color: #E2EBFA;\n",
              "      --hover-fill-color: #174EA6;\n",
              "      --disabled-fill-color: #AAA;\n",
              "      --disabled-bg-color: #DDD;\n",
              "  }\n",
              "\n",
              "  [theme=dark] .colab-df-quickchart {\n",
              "      --bg-color: #3B4455;\n",
              "      --fill-color: #D2E3FC;\n",
              "      --hover-bg-color: #434B5C;\n",
              "      --hover-fill-color: #FFFFFF;\n",
              "      --disabled-bg-color: #3B4455;\n",
              "      --disabled-fill-color: #666;\n",
              "  }\n",
              "\n",
              "  .colab-df-quickchart {\n",
              "    background-color: var(--bg-color);\n",
              "    border: none;\n",
              "    border-radius: 50%;\n",
              "    cursor: pointer;\n",
              "    display: none;\n",
              "    fill: var(--fill-color);\n",
              "    height: 32px;\n",
              "    padding: 0;\n",
              "    width: 32px;\n",
              "  }\n",
              "\n",
              "  .colab-df-quickchart:hover {\n",
              "    background-color: var(--hover-bg-color);\n",
              "    box-shadow: 0 1px 2px rgba(60, 64, 67, 0.3), 0 1px 3px 1px rgba(60, 64, 67, 0.15);\n",
              "    fill: var(--button-hover-fill-color);\n",
              "  }\n",
              "\n",
              "  .colab-df-quickchart-complete:disabled,\n",
              "  .colab-df-quickchart-complete:disabled:hover {\n",
              "    background-color: var(--disabled-bg-color);\n",
              "    fill: var(--disabled-fill-color);\n",
              "    box-shadow: none;\n",
              "  }\n",
              "\n",
              "  .colab-df-spinner {\n",
              "    border: 2px solid var(--fill-color);\n",
              "    border-color: transparent;\n",
              "    border-bottom-color: var(--fill-color);\n",
              "    animation:\n",
              "      spin 1s steps(1) infinite;\n",
              "  }\n",
              "\n",
              "  @keyframes spin {\n",
              "    0% {\n",
              "      border-color: transparent;\n",
              "      border-bottom-color: var(--fill-color);\n",
              "      border-left-color: var(--fill-color);\n",
              "    }\n",
              "    20% {\n",
              "      border-color: transparent;\n",
              "      border-left-color: var(--fill-color);\n",
              "      border-top-color: var(--fill-color);\n",
              "    }\n",
              "    30% {\n",
              "      border-color: transparent;\n",
              "      border-left-color: var(--fill-color);\n",
              "      border-top-color: var(--fill-color);\n",
              "      border-right-color: var(--fill-color);\n",
              "    }\n",
              "    40% {\n",
              "      border-color: transparent;\n",
              "      border-right-color: var(--fill-color);\n",
              "      border-top-color: var(--fill-color);\n",
              "    }\n",
              "    60% {\n",
              "      border-color: transparent;\n",
              "      border-right-color: var(--fill-color);\n",
              "    }\n",
              "    80% {\n",
              "      border-color: transparent;\n",
              "      border-right-color: var(--fill-color);\n",
              "      border-bottom-color: var(--fill-color);\n",
              "    }\n",
              "    90% {\n",
              "      border-color: transparent;\n",
              "      border-bottom-color: var(--fill-color);\n",
              "    }\n",
              "  }\n",
              "</style>\n",
              "\n",
              "  <script>\n",
              "    async function quickchart(key) {\n",
              "      const quickchartButtonEl =\n",
              "        document.querySelector('#' + key + ' button');\n",
              "      quickchartButtonEl.disabled = true;  // To prevent multiple clicks.\n",
              "      quickchartButtonEl.classList.add('colab-df-spinner');\n",
              "      try {\n",
              "        const charts = await google.colab.kernel.invokeFunction(\n",
              "            'suggestCharts', [key], {});\n",
              "      } catch (error) {\n",
              "        console.error('Error during call to suggestCharts:', error);\n",
              "      }\n",
              "      quickchartButtonEl.classList.remove('colab-df-spinner');\n",
              "      quickchartButtonEl.classList.add('colab-df-quickchart-complete');\n",
              "    }\n",
              "    (() => {\n",
              "      let quickchartButtonEl =\n",
              "        document.querySelector('#df-8152410e-7fa6-446c-b74d-0791dd89eab1 button');\n",
              "      quickchartButtonEl.style.display =\n",
              "        google.colab.kernel.accessAllowed ? 'block' : 'none';\n",
              "    })();\n",
              "  </script>\n",
              "</div>\n",
              "\n",
              "    </div>\n",
              "  </div>\n"
            ],
            "application/vnd.google.colaboratory.intrinsic+json": {
              "type": "dataframe",
              "variable_name": "df",
              "summary": "{\n  \"name\": \"df\",\n  \"rows\": 1181,\n  \"fields\": [\n    {\n      \"column\": \"Image_Path\",\n      \"properties\": {\n        \"dtype\": \"string\",\n        \"num_unique_values\": 1181,\n        \"samples\": [\n          \"/content/drive/MyDrive/UTKFace/35_0_0_20170119200935316.jpg.chip.jpg\",\n          \"/content/drive/MyDrive/UTKFace/26_0_1_20170116220218880.jpg.chip.jpg\",\n          \"/content/drive/MyDrive/UTKFace/30_0_2_20170119204746406.jpg.chip.jpg\"\n        ],\n        \"semantic_type\": \"\",\n        \"description\": \"\"\n      }\n    },\n    {\n      \"column\": \"Age\",\n      \"properties\": {\n        \"dtype\": \"number\",\n        \"std\": 19,\n        \"min\": 1,\n        \"max\": 100,\n        \"num_unique_values\": 88,\n        \"samples\": [\n          44,\n          27,\n          18\n        ],\n        \"semantic_type\": \"\",\n        \"description\": \"\"\n      }\n    },\n    {\n      \"column\": \"Gender\",\n      \"properties\": {\n        \"dtype\": \"category\",\n        \"num_unique_values\": 2,\n        \"samples\": [\n          \"male\",\n          \"female\"\n        ],\n        \"semantic_type\": \"\",\n        \"description\": \"\"\n      }\n    },\n    {\n      \"column\": \"Race\",\n      \"properties\": {\n        \"dtype\": \"category\",\n        \"num_unique_values\": 5,\n        \"samples\": [\n          \"black\",\n          \"asian\"\n        ],\n        \"semantic_type\": \"\",\n        \"description\": \"\"\n      }\n    },\n    {\n      \"column\": \"Age_Group\",\n      \"properties\": {\n        \"dtype\": \"category\",\n        \"num_unique_values\": 5,\n        \"samples\": [\n          \"Children\",\n          \"Very Old\"\n        ],\n        \"semantic_type\": \"\",\n        \"description\": \"\"\n      }\n    }\n  ]\n}"
            }
          },
          "metadata": {},
          "execution_count": 23
        }
      ],
      "source": [
        "df.head()"
      ]
    },
    {
      "cell_type": "code",
      "execution_count": null,
      "metadata": {
        "execution": {
          "iopub.execute_input": "2024-10-20T05:36:08.043491Z",
          "iopub.status.busy": "2024-10-20T05:36:08.043125Z",
          "iopub.status.idle": "2024-10-20T05:36:08.392142Z",
          "shell.execute_reply": "2024-10-20T05:36:08.391107Z",
          "shell.execute_reply.started": "2024-10-20T05:36:08.043410Z"
        },
        "id": "yKgC-I467Jj-",
        "colab": {
          "base_uri": "https://localhost:8080/",
          "height": 498
        },
        "outputId": "091a5b8b-0916-47d5-f8e8-b7757f0abe38"
      },
      "outputs": [
        {
          "output_type": "display_data",
          "data": {
            "text/plain": [
              "<Figure size 1000x500 with 1 Axes>"
            ],
            "image/png": "[encoded data removed]"
          },
          "metadata": {}
        }
      ],
      "source": [
        "plt.figure(figsize=(10, 5))\n",
        "sns.distplot(df['Age'], bins=30, kde=True, color='green')\n",
        "plt.title(\"Age Distribution in UTKFace Dataset\")\n",
        "plt.xlabel(\"Age\")\n",
        "plt.ylabel(\"Frequency\")\n",
        "plt.show()"
      ]
    },
    {
      "cell_type": "code",
      "execution_count": null,
      "metadata": {
        "execution": {
          "iopub.execute_input": "2024-10-20T05:36:08.394558Z",
          "iopub.status.busy": "2024-10-20T05:36:08.393948Z",
          "iopub.status.idle": "2024-10-20T05:36:08.840222Z",
          "shell.execute_reply": "2024-10-20T05:36:08.839033Z",
          "shell.execute_reply.started": "2024-10-20T05:36:08.394468Z"
        },
        "id": "hF5rYgM57Jj-",
        "colab": {
          "base_uri": "https://localhost:8080/",
          "height": 576
        },
        "outputId": "4b19df5b-e2c9-4602-89ac-ec61066c059b"
      },
      "outputs": [
        {
          "output_type": "display_data",
          "data": {
            "text/plain": [
              "<Figure size 1000x600 with 1 Axes>"
            ],
            "image/png": "[encoded data removed]"
          },
          "metadata": {}
        }
      ],
      "source": [
        "# check with violin\n",
        "plt.figure(figsize=(10, 6))\n",
        "sns.violinplot(x=df['Age'], color='brown')\n",
        "plt.title('Age Distribution', fontsize=16)\n",
        "plt.xlabel('Age', fontsize=14)\n",
        "plt.ylabel('Distribution', fontsize=14)\n",
        "plt.show()"
      ]
    },
    {
      "cell_type": "code",
      "execution_count": null,
      "metadata": {
        "execution": {
          "iopub.execute_input": "2024-10-20T05:36:08.842531Z",
          "iopub.status.busy": "2024-10-20T05:36:08.841870Z",
          "iopub.status.idle": "2024-10-20T05:36:09.164528Z",
          "shell.execute_reply": "2024-10-20T05:36:09.163653Z",
          "shell.execute_reply.started": "2024-10-20T05:36:08.842445Z"
        },
        "id": "iKHihZxu7Jj-",
        "colab": {
          "base_uri": "https://localhost:8080/",
          "height": 484
        },
        "outputId": "ad79ab30-46d5-4919-ae23-1fd3a018df1a"
      },
      "outputs": [
        {
          "output_type": "display_data",
          "data": {
            "text/plain": [
              "<Figure size 800x400 with 1 Axes>"
            ],
            "image/png": "[encoded data removed]"
          },
          "metadata": {}
        }
      ],
      "source": [
        "plt.figure(figsize=(8, 4))\n",
        "sns.countplot(data=df, x='Age_Group', palette='viridis')\n",
        "plt.title(\"Age Group Distribution in UTKFace Dataset\")\n",
        "plt.xlabel(\"Age Group\")\n",
        "plt.ylabel(\"Count\")\n",
        "plt.xticks(rotation=45)\n",
        "plt.show()\n"
      ]
    },
    {
      "cell_type": "code",
      "execution_count": null,
      "metadata": {
        "execution": {
          "iopub.execute_input": "2024-10-20T05:36:09.166407Z",
          "iopub.status.busy": "2024-10-20T05:36:09.165882Z",
          "iopub.status.idle": "2024-10-20T05:36:09.909010Z",
          "shell.execute_reply": "2024-10-20T05:36:09.908092Z",
          "shell.execute_reply.started": "2024-10-20T05:36:09.166354Z"
        },
        "id": "uwdqtcXT7Jj-",
        "colab": {
          "base_uri": "https://localhost:8080/",
          "height": 689
        },
        "outputId": "4c35ec04-bc45-46c3-c84e-430e82924b00"
      },
      "outputs": [
        {
          "output_type": "execute_result",
          "data": {
            "text/plain": [
              "Text(0.5, 1.0, 'Analysis of Age vs Race accross different genders')"
            ]
          },
          "metadata": {},
          "execution_count": 27
        },
        {
          "output_type": "display_data",
          "data": {
            "text/plain": [
              "<Figure size 1200x800 with 1 Axes>"
            ],
            "image/png": "[encoded data removed]"
          },
          "metadata": {}
        }
      ],
      "source": [
        "# plot an analysis of gender vs, race and age\n",
        "sns.set(style=\"whitegrid\")\n",
        "sns.violinplot(x='Race',y='Age',hue='Gender',split=True,data=df)\n",
        "plt.title(\"Analysis of Age vs Race accross different genders\")"
      ]
    },
    {
      "cell_type": "code",
      "execution_count": null,
      "metadata": {
        "execution": {
          "iopub.execute_input": "2024-10-20T05:36:09.910368Z",
          "iopub.status.busy": "2024-10-20T05:36:09.910090Z",
          "iopub.status.idle": "2024-10-20T05:36:10.310577Z",
          "shell.execute_reply": "2024-10-20T05:36:10.309792Z",
          "shell.execute_reply.started": "2024-10-20T05:36:09.910319Z"
        },
        "id": "mpZWnqYi7Jj-",
        "colab": {
          "base_uri": "https://localhost:8080/",
          "height": 588
        },
        "outputId": "b92d7617-7911-4fa1-ccf2-df72190427ab"
      },
      "outputs": [
        {
          "output_type": "display_data",
          "data": {
            "text/plain": [
              "<Figure size 1000x600 with 1 Axes>"
            ],
            "image/png": "[encoded data removed]"
          },
          "metadata": {}
        }
      ],
      "source": [
        "# Age Group vs Race Plot\n",
        "plt.figure(figsize=(10, 6))\n",
        "sns.countplot(data=df, x='Age_Group', hue='Race', palette='viridis')\n",
        "plt.title(\"Distribution of Age Groups across Races\")\n",
        "plt.xlabel(\"Age Group\")\n",
        "plt.ylabel(\"Count\")\n",
        "plt.xticks(rotation=45)\n",
        "plt.legend(title=\"Race\", bbox_to_anchor=(1.05, 1), loc='upper left')\n",
        "plt.show()"
      ]
    },
    {
      "cell_type": "code",
      "execution_count": null,
      "metadata": {
        "execution": {
          "iopub.execute_input": "2024-10-20T05:36:10.312703Z",
          "iopub.status.busy": "2024-10-20T05:36:10.312313Z",
          "iopub.status.idle": "2024-10-20T05:36:10.670802Z",
          "shell.execute_reply": "2024-10-20T05:36:10.670020Z",
          "shell.execute_reply.started": "2024-10-20T05:36:10.312627Z"
        },
        "id": "QVjLMuoD7Jj-",
        "colab": {
          "base_uri": "https://localhost:8080/",
          "height": 586
        },
        "outputId": "a48e878b-da1d-4951-cc64-a7710d44d6ed"
      },
      "outputs": [
        {
          "output_type": "display_data",
          "data": {
            "text/plain": [
              "<Figure size 1000x600 with 1 Axes>"
            ],
            "image/png": "[encoded data removed]"
          },
          "metadata": {}
        }
      ],
      "source": [
        "# Age Group vs Gender Plot\n",
        "plt.figure(figsize=(10, 6))\n",
        "sns.countplot(data=df, x='Age_Group', hue='Gender', palette='Set2')\n",
        "plt.title(\"Distribution of Age Groups across Genders\")\n",
        "plt.xlabel(\"Age Group\")\n",
        "plt.ylabel(\"Count\")\n",
        "plt.xticks(rotation=45)\n",
        "plt.legend(title=\"Gender\", bbox_to_anchor=(1.05, 1), loc='upper left')\n",
        "plt.show()\n"
      ]
    },
    {
      "cell_type": "code",
      "execution_count": null,
      "metadata": {
        "execution": {
          "iopub.execute_input": "2024-10-20T05:36:10.672903Z",
          "iopub.status.busy": "2024-10-20T05:36:10.672370Z",
          "iopub.status.idle": "2024-10-20T05:36:12.405094Z",
          "shell.execute_reply": "2024-10-20T05:36:12.404218Z",
          "shell.execute_reply.started": "2024-10-20T05:36:10.672846Z"
        },
        "id": "j9KQpu_X7Jj-",
        "colab": {
          "base_uri": "https://localhost:8080/",
          "height": 196
        },
        "outputId": "377b674e-d4c9-49ae-d5cc-b41316fb642f"
      },
      "outputs": [
        {
          "output_type": "display_data",
          "data": {
            "text/plain": [
              "<Figure size 3113.75x500 with 5 Axes>"
            ],
            "image/png": "[encoded data removed]"
          },
          "metadata": {}
        }
      ],
      "source": [
        "# for Age Group vs Race and Gender\n",
        "g = sns.catplot(\n",
        "    data=df,\n",
        "    x='Age_Group',\n",
        "    hue='Gender',\n",
        "    col='Race',\n",
        "    kind='count',\n",
        "    height=5,\n",
        "    aspect=1.2,\n",
        "    palette='pastel'\n",
        ")\n",
        "\n",
        "g.set_titles(\"{col_name}\", fontweight='bold', fontsize=15)\n",
        "g.set_axis_labels(\"Age Group\", \"Count\")\n",
        "g.fig.suptitle(\"Age Group Distribution by Race and Gender\", y=1.05, fontweight='bold', fontsize=17)\n",
        "\n",
        "for ax in g.axes.flat:\n",
        "    ax.set_xticklabels(ax.get_xticklabels(), rotation=45, ha='right', fontweight='bold')\n",
        "\n",
        "plt.show()\n"
      ]
    },
    {
      "cell_type": "code",
      "execution_count": null,
      "metadata": {
        "execution": {
          "iopub.execute_input": "2024-10-20T05:36:12.406789Z",
          "iopub.status.busy": "2024-10-20T05:36:12.406456Z",
          "iopub.status.idle": "2024-10-20T05:36:12.436273Z",
          "shell.execute_reply": "2024-10-20T05:36:12.435555Z",
          "shell.execute_reply.started": "2024-10-20T05:36:12.406711Z"
        },
        "id": "WJaYIOsr7Jj-",
        "colab": {
          "base_uri": "https://localhost:8080/",
          "height": 206
        },
        "outputId": "215e47f2-7ae7-424f-82b5-cd2d642cdfe6"
      },
      "outputs": [
        {
          "output_type": "execute_result",
          "data": {
            "text/plain": [
              "                                             Image_Path  Age  Gender    Race  \\\n",
              "1125  /content/drive/MyDrive/UTKFace/27_1_0_20170103...   27  female   white   \n",
              "27    /content/drive/MyDrive/UTKFace/1_1_1_201701091...    1  female   black   \n",
              "1     /content/drive/MyDrive/UTKFace/26_1_0_20170117...   26  female   white   \n",
              "232   /content/drive/MyDrive/UTKFace/26_1_0_20170116...   26  female   white   \n",
              "665   /content/drive/MyDrive/UTKFace/46_0_3_20170119...   46    male  indian   \n",
              "\n",
              "       Age_Group  label  \n",
              "1125      Adults      2  \n",
              "27      Children      0  \n",
              "1         Adults      2  \n",
              "232       Adults      2  \n",
              "665   Middle Age      3  "
            ],
            "text/html": [
              "\n",
              "  <div id=\"df-0f37829b-d961-4445-b010-baea5a6bc393\" class=\"colab-df-container\">\n",
              "    <div>\n",
              "<style scoped>\n",
              "    .dataframe tbody tr th:only-of-type {\n",
              "        vertical-align: middle;\n",
              "    }\n",
              "\n",
              "    .dataframe tbody tr th {\n",
              "        vertical-align: top;\n",
              "    }\n",
              "\n",
              "    .dataframe thead th {\n",
              "        text-align: right;\n",
              "    }\n",
              "</style>\n",
              "<table border=\"1\" class=\"dataframe\">\n",
              "  <thead>\n",
              "    <tr style=\"text-align: right;\">\n",
              "      <th></th>\n",
              "      <th>Image_Path</th>\n",
              "      <th>Age</th>\n",
              "      <th>Gender</th>\n",
              "      <th>Race</th>\n",
              "      <th>Age_Group</th>\n",
              "      <th>label</th>\n",
              "    </tr>\n",
              "  </thead>\n",
              "  <tbody>\n",
              "    <tr>\n",
              "      <th>1125</th>\n",
              "      <td>/content/drive/MyDrive/UTKFace/27_1_0_20170103...</td>\n",
              "      <td>27</td>\n",
              "      <td>female</td>\n",
              "      <td>white</td>\n",
              "      <td>Adults</td>\n",
              "      <td>2</td>\n",
              "    </tr>\n",
              "    <tr>\n",
              "      <th>27</th>\n",
              "      <td>/content/drive/MyDrive/UTKFace/1_1_1_201701091...</td>\n",
              "      <td>1</td>\n",
              "      <td>female</td>\n",
              "      <td>black</td>\n",
              "      <td>Children</td>\n",
              "      <td>0</td>\n",
              "    </tr>\n",
              "    <tr>\n",
              "      <th>1</th>\n",
              "      <td>/content/drive/MyDrive/UTKFace/26_1_0_20170117...</td>\n",
              "      <td>26</td>\n",
              "      <td>female</td>\n",
              "      <td>white</td>\n",
              "      <td>Adults</td>\n",
              "      <td>2</td>\n",
              "    </tr>\n",
              "    <tr>\n",
              "      <th>232</th>\n",
              "      <td>/content/drive/MyDrive/UTKFace/26_1_0_20170116...</td>\n",
              "      <td>26</td>\n",
              "      <td>female</td>\n",
              "      <td>white</td>\n",
              "      <td>Adults</td>\n",
              "      <td>2</td>\n",
              "    </tr>\n",
              "    <tr>\n",
              "      <th>665</th>\n",
              "      <td>/content/drive/MyDrive/UTKFace/46_0_3_20170119...</td>\n",
              "      <td>46</td>\n",
              "      <td>male</td>\n",
              "      <td>indian</td>\n",
              "      <td>Middle Age</td>\n",
              "      <td>3</td>\n",
              "    </tr>\n",
              "  </tbody>\n",
              "</table>\n",
              "</div>\n",
              "    <div class=\"colab-df-buttons\">\n",
              "\n",
              "  <div class=\"colab-df-container\">\n",
              "    <button class=\"colab-df-convert\" onclick=\"convertToInteractive('df-0f37829b-d961-4445-b010-baea5a6bc393')\"\n",
              "            title=\"Convert this dataframe to an interactive table.\"\n",
              "            style=\"display:none;\">\n",
              "\n",
              "  <svg xmlns=\"http://www.w3.org/2000/svg\" height=\"24px\" viewBox=\"0 -960 960 960\">\n",
              "    <path d=\"M120-120v-720h720v720H120Zm60-500h600v-160H180v160Zm220 220h160v-160H400v160Zm0 220h160v-160H400v160ZM180-400h160v-160H180v160Zm440 0h160v-160H620v160ZM180-180h160v-160H180v160Zm440 0h160v-160H620v160Z\"/>\n",
              "  </svg>\n",
              "    </button>\n",
              "\n",
              "  <style>\n",
              "    .colab-df-container {\n",
              "      display:flex;\n",
              "      gap: 12px;\n",
              "    }\n",
              "\n",
              "    .colab-df-convert {\n",
              "      background-color: #E8F0FE;\n",
              "      border: none;\n",
              "      border-radius: 50%;\n",
              "      cursor: pointer;\n",
              "      display: none;\n",
              "      fill: #1967D2;\n",
              "      height: 32px;\n",
              "      padding: 0 0 0 0;\n",
              "      width: 32px;\n",
              "    }\n",
              "\n",
              "    .colab-df-convert:hover {\n",
              "      background-color: #E2EBFA;\n",
              "      box-shadow: 0px 1px 2px rgba(60, 64, 67, 0.3), 0px 1px 3px 1px rgba(60, 64, 67, 0.15);\n",
              "      fill: #174EA6;\n",
              "    }\n",
              "\n",
              "    .colab-df-buttons div {\n",
              "      margin-bottom: 4px;\n",
              "    }\n",
              "\n",
              "    [theme=dark] .colab-df-convert {\n",
              "      background-color: #3B4455;\n",
              "      fill: #D2E3FC;\n",
              "    }\n",
              "\n",
              "    [theme=dark] .colab-df-convert:hover {\n",
              "      background-color: #434B5C;\n",
              "      box-shadow: 0px 1px 3px 1px rgba(0, 0, 0, 0.15);\n",
              "      filter: drop-shadow(0px 1px 2px rgba(0, 0, 0, 0.3));\n",
              "      fill: #FFFFFF;\n",
              "    }\n",
              "  </style>\n",
              "\n",
              "    <script>\n",
              "      const buttonEl =\n",
              "        document.querySelector('#df-0f37829b-d961-4445-b010-baea5a6bc393 button.colab-df-convert');\n",
              "      buttonEl.style.display =\n",
              "        google.colab.kernel.accessAllowed ? 'block' : 'none';\n",
              "\n",
              "      async function convertToInteractive(key) {\n",
              "        const element = document.querySelector('#df-0f37829b-d961-4445-b010-baea5a6bc393');\n",
              "        const dataTable =\n",
              "          await google.colab.kernel.invokeFunction('convertToInteractive',\n",
              "                                                    [key], {});\n",
              "        if (!dataTable) return;\n",
              "\n",
              "        const docLinkHtml = 'Like what you see? Visit the ' +\n",
              "          '<a target=\"_blank\" href=https://colab.research.google.com/notebooks/data_table.ipynb>data table notebook</a>'\n",
              "          + ' to learn more about interactive tables.';\n",
              "        element.innerHTML = '';\n",
              "        dataTable['output_type'] = 'display_data';\n",
              "        await google.colab.output.renderOutput(dataTable, element);\n",
              "        const docLink = document.createElement('div');\n",
              "        docLink.innerHTML = docLinkHtml;\n",
              "        element.appendChild(docLink);\n",
              "      }\n",
              "    </script>\n",
              "  </div>\n",
              "\n",
              "\n",
              "<div id=\"df-0ace12a7-c6e2-492f-a45f-e51a317e1d33\">\n",
              "  <button class=\"colab-df-quickchart\" onclick=\"quickchart('df-0ace12a7-c6e2-492f-a45f-e51a317e1d33')\"\n",
              "            title=\"Suggest charts\"\n",
              "            style=\"display:none;\">\n",
              "\n",
              "<svg xmlns=\"http://www.w3.org/2000/svg\" height=\"24px\"viewBox=\"0 0 24 24\"\n",
              "     width=\"24px\">\n",
              "    <g>\n",
              "        <path d=\"M19 3H5c-1.1 0-2 .9-2 2v14c0 1.1.9 2 2 2h14c1.1 0 2-.9 2-2V5c0-1.1-.9-2-2-2zM9 17H7v-7h2v7zm4 0h-2V7h2v10zm4 0h-2v-4h2v4z\"/>\n",
              "    </g>\n",
              "</svg>\n",
              "  </button>\n",
              "\n",
              "<style>\n",
              "  .colab-df-quickchart {\n",
              "      --bg-color: #E8F0FE;\n",
              "      --fill-color: #1967D2;\n",
              "      --hover-bg-color: #E2EBFA;\n",
              "      --hover-fill-color: #174EA6;\n",
              "      --disabled-fill-color: #AAA;\n",
              "      --disabled-bg-color: #DDD;\n",
              "  }\n",
              "\n",
              "  [theme=dark] .colab-df-quickchart {\n",
              "      --bg-color: #3B4455;\n",
              "      --fill-color: #D2E3FC;\n",
              "      --hover-bg-color: #434B5C;\n",
              "      --hover-fill-color: #FFFFFF;\n",
              "      --disabled-bg-color: #3B4455;\n",
              "      --disabled-fill-color: #666;\n",
              "  }\n",
              "\n",
              "  .colab-df-quickchart {\n",
              "    background-color: var(--bg-color);\n",
              "    border: none;\n",
              "    border-radius: 50%;\n",
              "    cursor: pointer;\n",
              "    display: none;\n",
              "    fill: var(--fill-color);\n",
              "    height: 32px;\n",
              "    padding: 0;\n",
              "    width: 32px;\n",
              "  }\n",
              "\n",
              "  .colab-df-quickchart:hover {\n",
              "    background-color: var(--hover-bg-color);\n",
              "    box-shadow: 0 1px 2px rgba(60, 64, 67, 0.3), 0 1px 3px 1px rgba(60, 64, 67, 0.15);\n",
              "    fill: var(--button-hover-fill-color);\n",
              "  }\n",
              "\n",
              "  .colab-df-quickchart-complete:disabled,\n",
              "  .colab-df-quickchart-complete:disabled:hover {\n",
              "    background-color: var(--disabled-bg-color);\n",
              "    fill: var(--disabled-fill-color);\n",
              "    box-shadow: none;\n",
              "  }\n",
              "\n",
              "  .colab-df-spinner {\n",
              "    border: 2px solid var(--fill-color);\n",
              "    border-color: transparent;\n",
              "    border-bottom-color: var(--fill-color);\n",
              "    animation:\n",
              "      spin 1s steps(1) infinite;\n",
              "  }\n",
              "\n",
              "  @keyframes spin {\n",
              "    0% {\n",
              "      border-color: transparent;\n",
              "      border-bottom-color: var(--fill-color);\n",
              "      border-left-color: var(--fill-color);\n",
              "    }\n",
              "    20% {\n",
              "      border-color: transparent;\n",
              "      border-left-color: var(--fill-color);\n",
              "      border-top-color: var(--fill-color);\n",
              "    }\n",
              "    30% {\n",
              "      border-color: transparent;\n",
              "      border-left-color: var(--fill-color);\n",
              "      border-top-color: var(--fill-color);\n",
              "      border-right-color: var(--fill-color);\n",
              "    }\n",
              "    40% {\n",
              "      border-color: transparent;\n",
              "      border-right-color: var(--fill-color);\n",
              "      border-top-color: var(--fill-color);\n",
              "    }\n",
              "    60% {\n",
              "      border-color: transparent;\n",
              "      border-right-color: var(--fill-color);\n",
              "    }\n",
              "    80% {\n",
              "      border-color: transparent;\n",
              "      border-right-color: var(--fill-color);\n",
              "      border-bottom-color: var(--fill-color);\n",
              "    }\n",
              "    90% {\n",
              "      border-color: transparent;\n",
              "      border-bottom-color: var(--fill-color);\n",
              "    }\n",
              "  }\n",
              "</style>\n",
              "\n",
              "  <script>\n",
              "    async function quickchart(key) {\n",
              "      const quickchartButtonEl =\n",
              "        document.querySelector('#' + key + ' button');\n",
              "      quickchartButtonEl.disabled = true;  // To prevent multiple clicks.\n",
              "      quickchartButtonEl.classList.add('colab-df-spinner');\n",
              "      try {\n",
              "        const charts = await google.colab.kernel.invokeFunction(\n",
              "            'suggestCharts', [key], {});\n",
              "      } catch (error) {\n",
              "        console.error('Error during call to suggestCharts:', error);\n",
              "      }\n",
              "      quickchartButtonEl.classList.remove('colab-df-spinner');\n",
              "      quickchartButtonEl.classList.add('colab-df-quickchart-complete');\n",
              "    }\n",
              "    (() => {\n",
              "      let quickchartButtonEl =\n",
              "        document.querySelector('#df-0ace12a7-c6e2-492f-a45f-e51a317e1d33 button');\n",
              "      quickchartButtonEl.style.display =\n",
              "        google.colab.kernel.accessAllowed ? 'block' : 'none';\n",
              "    })();\n",
              "  </script>\n",
              "</div>\n",
              "\n",
              "    </div>\n",
              "  </div>\n"
            ],
            "application/vnd.google.colaboratory.intrinsic+json": {
              "type": "dataframe",
              "variable_name": "df",
              "summary": "{\n  \"name\": \"df\",\n  \"rows\": 1181,\n  \"fields\": [\n    {\n      \"column\": \"Image_Path\",\n      \"properties\": {\n        \"dtype\": \"string\",\n        \"num_unique_values\": 1181,\n        \"samples\": [\n          \"/content/drive/MyDrive/UTKFace/35_0_0_20170119200935316.jpg.chip.jpg\",\n          \"/content/drive/MyDrive/UTKFace/26_0_1_20170116220218880.jpg.chip.jpg\",\n          \"/content/drive/MyDrive/UTKFace/30_0_2_20170119204746406.jpg.chip.jpg\"\n        ],\n        \"semantic_type\": \"\",\n        \"description\": \"\"\n      }\n    },\n    {\n      \"column\": \"Age\",\n      \"properties\": {\n        \"dtype\": \"number\",\n        \"std\": 19,\n        \"min\": 1,\n        \"max\": 100,\n        \"num_unique_values\": 88,\n        \"samples\": [\n          44,\n          27,\n          18\n        ],\n        \"semantic_type\": \"\",\n        \"description\": \"\"\n      }\n    },\n    {\n      \"column\": \"Gender\",\n      \"properties\": {\n        \"dtype\": \"category\",\n        \"num_unique_values\": 2,\n        \"samples\": [\n          \"male\",\n          \"female\"\n        ],\n        \"semantic_type\": \"\",\n        \"description\": \"\"\n      }\n    },\n    {\n      \"column\": \"Race\",\n      \"properties\": {\n        \"dtype\": \"category\",\n        \"num_unique_values\": 5,\n        \"samples\": [\n          \"black\",\n          \"asian\"\n        ],\n        \"semantic_type\": \"\",\n        \"description\": \"\"\n      }\n    },\n    {\n      \"column\": \"Age_Group\",\n      \"properties\": {\n        \"dtype\": \"category\",\n        \"num_unique_values\": 5,\n        \"samples\": [\n          \"Children\",\n          \"Very Old\"\n        ],\n        \"semantic_type\": \"\",\n        \"description\": \"\"\n      }\n    },\n    {\n      \"column\": \"label\",\n      \"properties\": {\n        \"dtype\": \"number\",\n        \"std\": 1,\n        \"min\": 0,\n        \"max\": 4,\n        \"num_unique_values\": 5,\n        \"samples\": [\n          0,\n          4\n        ],\n        \"semantic_type\": \"\",\n        \"description\": \"\"\n      }\n    }\n  ]\n}"
            }
          },
          "metadata": {},
          "execution_count": 31
        }
      ],
      "source": [
        "# get the labels as numerical\n",
        "# get mapping for predefined age groups to numerical classes\n",
        "age_group_mapping = {\n",
        "        'Children': 0,  # 1-14 years\n",
        "        'Youth': 1,     # 14-25 years\n",
        "        'Adults': 2,    # 25-40 years\n",
        "        'Middle Age': 3, # 40-60 years\n",
        "        'Very Old': 4   # 60+ years\n",
        "    }\n",
        "\n",
        "# map the age group labels to their respective numerical values\n",
        "df['label'] = df[\"Age_Group\"].map(age_group_mapping).fillna(-1).astype(int)\n",
        "\n",
        "df.head()"
      ]
    },
    {
      "cell_type": "markdown",
      "metadata": {
        "id": "mLMu5qgi7Jj-"
      },
      "source": [
        "\n",
        "### Data Splitting\n",
        "\n",
        "For data splitting, we employ a **stratified 5-fold cross-validation strategy** to efficiently utilize the available data for model training and evaluation. This approach ensures that each fold maintains a balanced representation of the age groups.\n",
        "\n",
        "The data is divided into 5 folds, where 2 folds serve as the **testing** set and **validation** (one each), while the remaining 3 folds are used for **training**.\n",
        "\n",
        "This means our data will be split as follows:\n",
        "\n",
        "- **Training**: 60%\n",
        "- **Testing**: 20%\n",
        "- **Validation**: 20%\n",
        "\n",
        "This stratified splitting allows for a more representative assessment of the model's performance across different age groups, ensuring that the classification is robust and reliable.\n"
      ]
    },
    {
      "cell_type": "code",
      "execution_count": null,
      "metadata": {
        "execution": {
          "iopub.execute_input": "2024-10-20T05:36:12.437726Z",
          "iopub.status.busy": "2024-10-20T05:36:12.437441Z",
          "iopub.status.idle": "2024-10-20T05:36:12.444544Z",
          "shell.execute_reply": "2024-10-20T05:36:12.443705Z",
          "shell.execute_reply.started": "2024-10-20T05:36:12.437675Z"
        },
        "id": "SOKF-VMo7Jj-"
      },
      "outputs": [],
      "source": [
        "\n",
        "# functions to do spliting\n",
        "def stratified_split(data, target_col, n_splits=5, seed=2024):\n",
        "    \"\"\"Perform stratified K-Fold splitting.\"\"\"\n",
        "    skf = StratifiedKFold(n_splits=n_splits, shuffle=True, random_state=seed)\n",
        "    for train_idx, test_idx in skf.split(data, data[target_col]):\n",
        "        train_data = data.iloc[train_idx].reset_index(drop=True)\n",
        "        test_data = data.iloc[test_idx].reset_index(drop=True)\n",
        "        return train_data, test_data\n",
        "\n",
        "def split_train_validation(train_data, target_col, n_splits=4, seed=2023):\n",
        "    \"\"\"Further split training data into train and validation sets.\"\"\"\n",
        "    skf = StratifiedKFold(n_splits=n_splits, shuffle=True, random_state=seed)\n",
        "    for train_idx, valid_idx in skf.split(train_data, train_data[target_col]):\n",
        "        return (\n",
        "            train_data.iloc[train_idx].reset_index(drop=True),\n",
        "            train_data.iloc[valid_idx].reset_index(drop=True)\n",
        "        )\n"
      ]
    },
    {
      "cell_type": "code",
      "execution_count": null,
      "metadata": {
        "execution": {
          "iopub.execute_input": "2024-10-20T08:19:53.401806Z",
          "iopub.status.busy": "2024-10-20T08:19:53.401419Z",
          "iopub.status.idle": "2024-10-20T08:19:53.600497Z",
          "shell.execute_reply": "2024-10-20T08:19:53.599586Z",
          "shell.execute_reply.started": "2024-10-20T08:19:53.401744Z"
        },
        "id": "DfvwCuOX7Jj-"
      },
      "outputs": [],
      "source": [
        "# Sample 10,000 images\n",
        "sample_df = df.sample(frac=1, random_state=2024)\n",
        "\n",
        "# we are classifying the 'Age_Group' column hence stratified splits it\n",
        "train_data_dump, test_data = stratified_split(sample_df, 'Age_Group')\n",
        "\n",
        "# split the training data into train and validation sets using 'Age_Group'\n",
        "train_data, valid_data = split_train_validation(train_data_dump, 'Age_Group')\n",
        "\n"
      ]
    },
    {
      "cell_type": "code",
      "execution_count": null,
      "metadata": {
        "execution": {
          "iopub.execute_input": "2024-10-20T08:19:56.405753Z",
          "iopub.status.busy": "2024-10-20T08:19:56.405424Z",
          "iopub.status.idle": "2024-10-20T08:19:56.411427Z",
          "shell.execute_reply": "2024-10-20T08:19:56.410760Z",
          "shell.execute_reply.started": "2024-10-20T08:19:56.405703Z"
        },
        "id": "8Q68SE0e7Jj_",
        "colab": {
          "base_uri": "https://localhost:8080/"
        },
        "outputId": "eca409f7-58d8-48db-b0bb-db7b6363a2d9"
      },
      "outputs": [
        {
          "output_type": "execute_result",
          "data": {
            "text/plain": [
              "(0.5994919559695173, 0.19983065198983913, 0.20067739204064353)"
            ]
          },
          "metadata": {},
          "execution_count": 34
        }
      ],
      "source": [
        "# get the sizes\n",
        "len(train_data)/sample_df.shape[0], len(valid_data)/sample_df.shape[0], len(test_data)/sample_df.shape[0]"
      ]
    },
    {
      "cell_type": "code",
      "execution_count": null,
      "metadata": {
        "execution": {
          "iopub.execute_input": "2024-10-20T05:36:12.541534Z",
          "iopub.status.busy": "2024-10-20T05:36:12.541219Z",
          "iopub.status.idle": "2024-10-20T05:36:12.564807Z",
          "shell.execute_reply": "2024-10-20T05:36:12.564172Z",
          "shell.execute_reply.started": "2024-10-20T05:36:12.541417Z"
        },
        "id": "4-cqR3fp7Jj_",
        "colab": {
          "base_uri": "https://localhost:8080/",
          "height": 206
        },
        "outputId": "99926e4d-ac81-4b12-dd93-829b2a5c8cca"
      },
      "outputs": [
        {
          "output_type": "execute_result",
          "data": {
            "text/plain": [
              "                                          Image_Path  Age  Gender    Race  \\\n",
              "0  /content/drive/MyDrive/UTKFace/1_0_2_201612191...    1    male   asian   \n",
              "1  /content/drive/MyDrive/UTKFace/31_1_1_20170117...   31  female   black   \n",
              "2  /content/drive/MyDrive/UTKFace/100_1_2_2017010...  100  female   asian   \n",
              "3  /content/drive/MyDrive/UTKFace/26_1_2_20170116...   26  female   asian   \n",
              "4  /content/drive/MyDrive/UTKFace/20_1_4_20161223...   20  female  others   \n",
              "\n",
              "  Age_Group  label  \n",
              "0  Children      0  \n",
              "1    Adults      2  \n",
              "2  Very Old      4  \n",
              "3    Adults      2  \n",
              "4     Youth      1  "
            ],
            "text/html": [
              "\n",
              "  <div id=\"df-3a02782f-376a-46e6-a1c5-5dbedb2f3de9\" class=\"colab-df-container\">\n",
              "    <div>\n",
              "<style scoped>\n",
              "    .dataframe tbody tr th:only-of-type {\n",
              "        vertical-align: middle;\n",
              "    }\n",
              "\n",
              "    .dataframe tbody tr th {\n",
              "        vertical-align: top;\n",
              "    }\n",
              "\n",
              "    .dataframe thead th {\n",
              "        text-align: right;\n",
              "    }\n",
              "</style>\n",
              "<table border=\"1\" class=\"dataframe\">\n",
              "  <thead>\n",
              "    <tr style=\"text-align: right;\">\n",
              "      <th></th>\n",
              "      <th>Image_Path</th>\n",
              "      <th>Age</th>\n",
              "      <th>Gender</th>\n",
              "      <th>Race</th>\n",
              "      <th>Age_Group</th>\n",
              "      <th>label</th>\n",
              "    </tr>\n",
              "  </thead>\n",
              "  <tbody>\n",
              "    <tr>\n",
              "      <th>0</th>\n",
              "      <td>/content/drive/MyDrive/UTKFace/1_0_2_201612191...</td>\n",
              "      <td>1</td>\n",
              "      <td>male</td>\n",
              "      <td>asian</td>\n",
              "      <td>Children</td>\n",
              "      <td>0</td>\n",
              "    </tr>\n",
              "    <tr>\n",
              "      <th>1</th>\n",
              "      <td>/content/drive/MyDrive/UTKFace/31_1_1_20170117...</td>\n",
              "      <td>31</td>\n",
              "      <td>female</td>\n",
              "      <td>black</td>\n",
              "      <td>Adults</td>\n",
              "      <td>2</td>\n",
              "    </tr>\n",
              "    <tr>\n",
              "      <th>2</th>\n",
              "      <td>/content/drive/MyDrive/UTKFace/100_1_2_2017010...</td>\n",
              "      <td>100</td>\n",
              "      <td>female</td>\n",
              "      <td>asian</td>\n",
              "      <td>Very Old</td>\n",
              "      <td>4</td>\n",
              "    </tr>\n",
              "    <tr>\n",
              "      <th>3</th>\n",
              "      <td>/content/drive/MyDrive/UTKFace/26_1_2_20170116...</td>\n",
              "      <td>26</td>\n",
              "      <td>female</td>\n",
              "      <td>asian</td>\n",
              "      <td>Adults</td>\n",
              "      <td>2</td>\n",
              "    </tr>\n",
              "    <tr>\n",
              "      <th>4</th>\n",
              "      <td>/content/drive/MyDrive/UTKFace/20_1_4_20161223...</td>\n",
              "      <td>20</td>\n",
              "      <td>female</td>\n",
              "      <td>others</td>\n",
              "      <td>Youth</td>\n",
              "      <td>1</td>\n",
              "    </tr>\n",
              "  </tbody>\n",
              "</table>\n",
              "</div>\n",
              "    <div class=\"colab-df-buttons\">\n",
              "\n",
              "  <div class=\"colab-df-container\">\n",
              "    <button class=\"colab-df-convert\" onclick=\"convertToInteractive('df-3a02782f-376a-46e6-a1c5-5dbedb2f3de9')\"\n",
              "            title=\"Convert this dataframe to an interactive table.\"\n",
              "            style=\"display:none;\">\n",
              "\n",
              "  <svg xmlns=\"http://www.w3.org/2000/svg\" height=\"24px\" viewBox=\"0 -960 960 960\">\n",
              "    <path d=\"M120-120v-720h720v720H120Zm60-500h600v-160H180v160Zm220 220h160v-160H400v160Zm0 220h160v-160H400v160ZM180-400h160v-160H180v160Zm440 0h160v-160H620v160ZM180-180h160v-160H180v160Zm440 0h160v-160H620v160Z\"/>\n",
              "  </svg>\n",
              "    </button>\n",
              "\n",
              "  <style>\n",
              "    .colab-df-container {\n",
              "      display:flex;\n",
              "      gap: 12px;\n",
              "    }\n",
              "\n",
              "    .colab-df-convert {\n",
              "      background-color: #E8F0FE;\n",
              "      border: none;\n",
              "      border-radius: 50%;\n",
              "      cursor: pointer;\n",
              "      display: none;\n",
              "      fill: #1967D2;\n",
              "      height: 32px;\n",
              "      padding: 0 0 0 0;\n",
              "      width: 32px;\n",
              "    }\n",
              "\n",
              "    .colab-df-convert:hover {\n",
              "      background-color: #E2EBFA;\n",
              "      box-shadow: 0px 1px 2px rgba(60, 64, 67, 0.3), 0px 1px 3px 1px rgba(60, 64, 67, 0.15);\n",
              "      fill: #174EA6;\n",
              "    }\n",
              "\n",
              "    .colab-df-buttons div {\n",
              "      margin-bottom: 4px;\n",
              "    }\n",
              "\n",
              "    [theme=dark] .colab-df-convert {\n",
              "      background-color: #3B4455;\n",
              "      fill: #D2E3FC;\n",
              "    }\n",
              "\n",
              "    [theme=dark] .colab-df-convert:hover {\n",
              "      background-color: #434B5C;\n",
              "      box-shadow: 0px 1px 3px 1px rgba(0, 0, 0, 0.15);\n",
              "      filter: drop-shadow(0px 1px 2px rgba(0, 0, 0, 0.3));\n",
              "      fill: #FFFFFF;\n",
              "    }\n",
              "  </style>\n",
              "\n",
              "    <script>\n",
              "      const buttonEl =\n",
              "        document.querySelector('#df-3a02782f-376a-46e6-a1c5-5dbedb2f3de9 button.colab-df-convert');\n",
              "      buttonEl.style.display =\n",
              "        google.colab.kernel.accessAllowed ? 'block' : 'none';\n",
              "\n",
              "      async function convertToInteractive(key) {\n",
              "        const element = document.querySelector('#df-3a02782f-376a-46e6-a1c5-5dbedb2f3de9');\n",
              "        const dataTable =\n",
              "          await google.colab.kernel.invokeFunction('convertToInteractive',\n",
              "                                                    [key], {});\n",
              "        if (!dataTable) return;\n",
              "\n",
              "        const docLinkHtml = 'Like what you see? Visit the ' +\n",
              "          '<a target=\"_blank\" href=https://colab.research.google.com/notebooks/data_table.ipynb>data table notebook</a>'\n",
              "          + ' to learn more about interactive tables.';\n",
              "        element.innerHTML = '';\n",
              "        dataTable['output_type'] = 'display_data';\n",
              "        await google.colab.output.renderOutput(dataTable, element);\n",
              "        const docLink = document.createElement('div');\n",
              "        docLink.innerHTML = docLinkHtml;\n",
              "        element.appendChild(docLink);\n",
              "      }\n",
              "    </script>\n",
              "  </div>\n",
              "\n",
              "\n",
              "<div id=\"df-3cfc2d80-ae42-49ab-ac28-32bb449631c0\">\n",
              "  <button class=\"colab-df-quickchart\" onclick=\"quickchart('df-3cfc2d80-ae42-49ab-ac28-32bb449631c0')\"\n",
              "            title=\"Suggest charts\"\n",
              "            style=\"display:none;\">\n",
              "\n",
              "<svg xmlns=\"http://www.w3.org/2000/svg\" height=\"24px\"viewBox=\"0 0 24 24\"\n",
              "     width=\"24px\">\n",
              "    <g>\n",
              "        <path d=\"M19 3H5c-1.1 0-2 .9-2 2v14c0 1.1.9 2 2 2h14c1.1 0 2-.9 2-2V5c0-1.1-.9-2-2-2zM9 17H7v-7h2v7zm4 0h-2V7h2v10zm4 0h-2v-4h2v4z\"/>\n",
              "    </g>\n",
              "</svg>\n",
              "  </button>\n",
              "\n",
              "<style>\n",
              "  .colab-df-quickchart {\n",
              "      --bg-color: #E8F0FE;\n",
              "      --fill-color: #1967D2;\n",
              "      --hover-bg-color: #E2EBFA;\n",
              "      --hover-fill-color: #174EA6;\n",
              "      --disabled-fill-color: #AAA;\n",
              "      --disabled-bg-color: #DDD;\n",
              "  }\n",
              "\n",
              "  [theme=dark] .colab-df-quickchart {\n",
              "      --bg-color: #3B4455;\n",
              "      --fill-color: #D2E3FC;\n",
              "      --hover-bg-color: #434B5C;\n",
              "      --hover-fill-color: #FFFFFF;\n",
              "      --disabled-bg-color: #3B4455;\n",
              "      --disabled-fill-color: #666;\n",
              "  }\n",
              "\n",
              "  .colab-df-quickchart {\n",
              "    background-color: var(--bg-color);\n",
              "    border: none;\n",
              "    border-radius: 50%;\n",
              "    cursor: pointer;\n",
              "    display: none;\n",
              "    fill: var(--fill-color);\n",
              "    height: 32px;\n",
              "    padding: 0;\n",
              "    width: 32px;\n",
              "  }\n",
              "\n",
              "  .colab-df-quickchart:hover {\n",
              "    background-color: var(--hover-bg-color);\n",
              "    box-shadow: 0 1px 2px rgba(60, 64, 67, 0.3), 0 1px 3px 1px rgba(60, 64, 67, 0.15);\n",
              "    fill: var(--button-hover-fill-color);\n",
              "  }\n",
              "\n",
              "  .colab-df-quickchart-complete:disabled,\n",
              "  .colab-df-quickchart-complete:disabled:hover {\n",
              "    background-color: var(--disabled-bg-color);\n",
              "    fill: var(--disabled-fill-color);\n",
              "    box-shadow: none;\n",
              "  }\n",
              "\n",
              "  .colab-df-spinner {\n",
              "    border: 2px solid var(--fill-color);\n",
              "    border-color: transparent;\n",
              "    border-bottom-color: var(--fill-color);\n",
              "    animation:\n",
              "      spin 1s steps(1) infinite;\n",
              "  }\n",
              "\n",
              "  @keyframes spin {\n",
              "    0% {\n",
              "      border-color: transparent;\n",
              "      border-bottom-color: var(--fill-color);\n",
              "      border-left-color: var(--fill-color);\n",
              "    }\n",
              "    20% {\n",
              "      border-color: transparent;\n",
              "      border-left-color: var(--fill-color);\n",
              "      border-top-color: var(--fill-color);\n",
              "    }\n",
              "    30% {\n",
              "      border-color: transparent;\n",
              "      border-left-color: var(--fill-color);\n",
              "      border-top-color: var(--fill-color);\n",
              "      border-right-color: var(--fill-color);\n",
              "    }\n",
              "    40% {\n",
              "      border-color: transparent;\n",
              "      border-right-color: var(--fill-color);\n",
              "      border-top-color: var(--fill-color);\n",
              "    }\n",
              "    60% {\n",
              "      border-color: transparent;\n",
              "      border-right-color: var(--fill-color);\n",
              "    }\n",
              "    80% {\n",
              "      border-color: transparent;\n",
              "      border-right-color: var(--fill-color);\n",
              "      border-bottom-color: var(--fill-color);\n",
              "    }\n",
              "    90% {\n",
              "      border-color: transparent;\n",
              "      border-bottom-color: var(--fill-color);\n",
              "    }\n",
              "  }\n",
              "</style>\n",
              "\n",
              "  <script>\n",
              "    async function quickchart(key) {\n",
              "      const quickchartButtonEl =\n",
              "        document.querySelector('#' + key + ' button');\n",
              "      quickchartButtonEl.disabled = true;  // To prevent multiple clicks.\n",
              "      quickchartButtonEl.classList.add('colab-df-spinner');\n",
              "      try {\n",
              "        const charts = await google.colab.kernel.invokeFunction(\n",
              "            'suggestCharts', [key], {});\n",
              "      } catch (error) {\n",
              "        console.error('Error during call to suggestCharts:', error);\n",
              "      }\n",
              "      quickchartButtonEl.classList.remove('colab-df-spinner');\n",
              "      quickchartButtonEl.classList.add('colab-df-quickchart-complete');\n",
              "    }\n",
              "    (() => {\n",
              "      let quickchartButtonEl =\n",
              "        document.querySelector('#df-3cfc2d80-ae42-49ab-ac28-32bb449631c0 button');\n",
              "      quickchartButtonEl.style.display =\n",
              "        google.colab.kernel.accessAllowed ? 'block' : 'none';\n",
              "    })();\n",
              "  </script>\n",
              "</div>\n",
              "\n",
              "    </div>\n",
              "  </div>\n"
            ],
            "application/vnd.google.colaboratory.intrinsic+json": {
              "type": "dataframe",
              "variable_name": "train_data",
              "summary": "{\n  \"name\": \"train_data\",\n  \"rows\": 708,\n  \"fields\": [\n    {\n      \"column\": \"Image_Path\",\n      \"properties\": {\n        \"dtype\": \"string\",\n        \"num_unique_values\": 708,\n        \"samples\": [\n          \"/content/drive/MyDrive/UTKFace/26_0_0_20170119175528635.jpg.chip.jpg\",\n          \"/content/drive/MyDrive/UTKFace/27_1_0_20170117202238951.jpg.chip.jpg\",\n          \"/content/drive/MyDrive/UTKFace/4_1_2_20161219221140063.jpg.chip.jpg\"\n        ],\n        \"semantic_type\": \"\",\n        \"description\": \"\"\n      }\n    },\n    {\n      \"column\": \"Age\",\n      \"properties\": {\n        \"dtype\": \"number\",\n        \"std\": 20,\n        \"min\": 1,\n        \"max\": 100,\n        \"num_unique_values\": 85,\n        \"samples\": [\n          96,\n          1,\n          67\n        ],\n        \"semantic_type\": \"\",\n        \"description\": \"\"\n      }\n    },\n    {\n      \"column\": \"Gender\",\n      \"properties\": {\n        \"dtype\": \"category\",\n        \"num_unique_values\": 2,\n        \"samples\": [\n          \"female\",\n          \"male\"\n        ],\n        \"semantic_type\": \"\",\n        \"description\": \"\"\n      }\n    },\n    {\n      \"column\": \"Race\",\n      \"properties\": {\n        \"dtype\": \"category\",\n        \"num_unique_values\": 5,\n        \"samples\": [\n          \"black\",\n          \"indian\"\n        ],\n        \"semantic_type\": \"\",\n        \"description\": \"\"\n      }\n    },\n    {\n      \"column\": \"Age_Group\",\n      \"properties\": {\n        \"dtype\": \"category\",\n        \"num_unique_values\": 5,\n        \"samples\": [\n          \"Adults\",\n          \"Middle Age\"\n        ],\n        \"semantic_type\": \"\",\n        \"description\": \"\"\n      }\n    },\n    {\n      \"column\": \"label\",\n      \"properties\": {\n        \"dtype\": \"number\",\n        \"std\": 1,\n        \"min\": 0,\n        \"max\": 4,\n        \"num_unique_values\": 5,\n        \"samples\": [\n          2,\n          3\n        ],\n        \"semantic_type\": \"\",\n        \"description\": \"\"\n      }\n    }\n  ]\n}"
            }
          },
          "metadata": {},
          "execution_count": 35
        }
      ],
      "source": [
        "train_data.head()"
      ]
    },
    {
      "cell_type": "code",
      "execution_count": null,
      "metadata": {
        "id": "zD-dzA8z7Jj_"
      },
      "outputs": [],
      "source": []
    },
    {
      "cell_type": "code",
      "execution_count": null,
      "metadata": {
        "execution": {
          "iopub.execute_input": "2024-10-20T05:36:12.566416Z",
          "iopub.status.busy": "2024-10-20T05:36:12.566159Z",
          "iopub.status.idle": "2024-10-20T05:36:12.573465Z",
          "shell.execute_reply": "2024-10-20T05:36:12.572727Z",
          "shell.execute_reply.started": "2024-10-20T05:36:12.566356Z"
        },
        "id": "xONR9iT67Jj_"
      },
      "outputs": [],
      "source": [
        "# function to load data\n",
        "def load_training_data(data, img_size=(224, 224)):\n",
        "    \"\"\"\n",
        "    Load images from file paths and return them along with their corresponding age group labels.\n",
        "    \"\"\"\n",
        "    images = []\n",
        "    labels = []\n",
        "\n",
        "    for _, row in tqdm(data.iterrows(), total=data.shape[0]):\n",
        "        img_path = row['Image_Path']\n",
        "        img = cv2.imread(img_path)\n",
        "\n",
        "        if img is not None:\n",
        "            # Resize the image to the desired size\n",
        "            img = cv2.resize(img, img_size)\n",
        "            images.append(img)\n",
        "            labels.append(row['label'])\n",
        "        else:\n",
        "            print(f\"Warning: Could not load image at {img_path}\")\n",
        "\n",
        "    # rescale pixel values to be between 0 and 1\n",
        "    images = np.array(images).astype('float32') / 255.0\n",
        "    labels = np.array(labels)\n",
        "\n",
        "    return images, labels\n"
      ]
    },
    {
      "cell_type": "code",
      "execution_count": null,
      "metadata": {
        "execution": {
          "iopub.execute_input": "2024-10-20T05:36:12.575082Z",
          "iopub.status.busy": "2024-10-20T05:36:12.574622Z",
          "iopub.status.idle": "2024-10-20T05:36:59.515516Z",
          "shell.execute_reply": "2024-10-20T05:36:59.514820Z",
          "shell.execute_reply.started": "2024-10-20T05:36:12.574814Z"
        },
        "id": "ktPhKBV07Jj_",
        "colab": {
          "base_uri": "https://localhost:8080/"
        },
        "outputId": "0fd847b8-a727-47dc-d384-20c89e1ab883"
      },
      "outputs": [
        {
          "output_type": "stream",
          "name": "stderr",
          "text": [
            "100%|██████████| 708/708 [00:47<00:00, 15.05it/s] \n"
          ]
        }
      ],
      "source": [
        "# get training data\n",
        "Xtrain, Ytrain = load_training_data(train_data)"
      ]
    },
    {
      "cell_type": "code",
      "execution_count": null,
      "metadata": {
        "execution": {
          "iopub.execute_input": "2024-10-20T05:36:59.517172Z",
          "iopub.status.busy": "2024-10-20T05:36:59.516895Z",
          "iopub.status.idle": "2024-10-20T05:37:14.647671Z",
          "shell.execute_reply": "2024-10-20T05:37:14.646910Z",
          "shell.execute_reply.started": "2024-10-20T05:36:59.517113Z"
        },
        "id": "wmJGFZg87Jj_",
        "colab": {
          "base_uri": "https://localhost:8080/"
        },
        "outputId": "591ad07c-cd56-4dae-cc02-55ebe5bd1cc9"
      },
      "outputs": [
        {
          "output_type": "stream",
          "name": "stderr",
          "text": [
            "100%|██████████| 237/237 [00:01<00:00, 139.23it/s]\n"
          ]
        }
      ],
      "source": [
        "# test data\n",
        "Xtest, Ytest = load_training_data(test_data)"
      ]
    },
    {
      "cell_type": "code",
      "execution_count": null,
      "metadata": {
        "execution": {
          "iopub.execute_input": "2024-10-20T05:37:14.649621Z",
          "iopub.status.busy": "2024-10-20T05:37:14.649290Z",
          "iopub.status.idle": "2024-10-20T05:37:30.143468Z",
          "shell.execute_reply": "2024-10-20T05:37:30.142639Z",
          "shell.execute_reply.started": "2024-10-20T05:37:14.649559Z"
        },
        "id": "Pkl_qKRW7Jj_",
        "colab": {
          "base_uri": "https://localhost:8080/"
        },
        "outputId": "2244c6a3-22b2-48d0-eda4-a65cff86e5ad"
      },
      "outputs": [
        {
          "output_type": "stream",
          "name": "stderr",
          "text": [
            "100%|██████████| 236/236 [00:01<00:00, 142.14it/s]\n"
          ]
        }
      ],
      "source": [
        "# get validation data\n",
        "Xval, Yval = load_training_data(valid_data)"
      ]
    },
    {
      "cell_type": "code",
      "execution_count": null,
      "metadata": {
        "execution": {
          "iopub.execute_input": "2024-10-20T05:37:30.145267Z",
          "iopub.status.busy": "2024-10-20T05:37:30.144958Z",
          "iopub.status.idle": "2024-10-20T05:37:30.152189Z",
          "shell.execute_reply": "2024-10-20T05:37:30.151547Z",
          "shell.execute_reply.started": "2024-10-20T05:37:30.145210Z"
        },
        "id": "XVVdtzcW7Jj_",
        "colab": {
          "base_uri": "https://localhost:8080/"
        },
        "outputId": "d126d832-53a5-46e7-86b2-8908c52d233d"
      },
      "outputs": [
        {
          "output_type": "execute_result",
          "data": {
            "text/plain": [
              "((236, 224, 224, 3),\n",
              " (708, 224, 224, 3),\n",
              " (237, 224, 224, 3),\n",
              " (236,),\n",
              " (708,),\n",
              " (237,))"
            ]
          },
          "metadata": {},
          "execution_count": 40
        }
      ],
      "source": [
        "# check their sizes\n",
        "Xval.shape, Xtrain.shape, Xtest.shape, Yval.shape, Ytrain.shape, Ytest.shape"
      ]
    },
    {
      "cell_type": "code",
      "execution_count": null,
      "metadata": {
        "execution": {
          "iopub.execute_input": "2024-10-20T05:37:30.153928Z",
          "iopub.status.busy": "2024-10-20T05:37:30.153639Z",
          "iopub.status.idle": "2024-10-20T05:37:30.163548Z",
          "shell.execute_reply": "2024-10-20T05:37:30.162692Z",
          "shell.execute_reply.started": "2024-10-20T05:37:30.153873Z"
        },
        "id": "sYc3jgQ87Jj_",
        "colab": {
          "base_uri": "https://localhost:8080/"
        },
        "outputId": "4457e173-ffcc-4149-b985-4e549e069909"
      },
      "outputs": [
        {
          "output_type": "stream",
          "name": "stdout",
          "text": [
            "Continue\n"
          ]
        }
      ],
      "source": [
        "print(\"Continue\")"
      ]
    },
    {
      "cell_type": "markdown",
      "metadata": {
        "id": "yP79G4Ep7Jj_"
      },
      "source": [
        "### Transfer Learning with ResNet50 and VGG16\n",
        "- Transfer learning involves reusing a pre-trained model, initially trained on a large dataset, for a different task. In image classification, models like ResNet50/VGG16 are commonly employed.\n",
        "- The pre-trained ResNet50/VGG16 model serves as a feature extractor, leveraging its learned representations for a new task.\n",
        "- For transfer learning, I modified the input and output layers of ResNet50/VGG16 to align with the specific requirements of our task. This process allows us to benefit from the knowledge captured by the model during its pre-training.\n",
        "- I opted for the \"Feature Extraction\" method, where only the input and output layers are modified. The hidden layers, with their learned feature maps, remain unchanged. This approach is computationally efficient and well-suited for tasks where significant customization is unnecessary.\n",
        "- Through adopting this transfer learning strategy, I aim to harness the power of ResNet50's/VGG16's pre-learned features to enhance the performance of our model on the AGE GROUP IDENTIFICATION FROM UTK FACE DATASET without the need to train a large model from scratch."
      ]
    },
    {
      "cell_type": "code",
      "execution_count": null,
      "metadata": {
        "execution": {
          "iopub.execute_input": "2024-10-20T05:37:30.165021Z",
          "iopub.status.busy": "2024-10-20T05:37:30.164730Z",
          "iopub.status.idle": "2024-10-20T05:37:30.175485Z",
          "shell.execute_reply": "2024-10-20T05:37:30.174846Z",
          "shell.execute_reply.started": "2024-10-20T05:37:30.164965Z"
        },
        "id": "QbRaQD_b7Jj_",
        "colab": {
          "base_uri": "https://localhost:8080/"
        },
        "outputId": "462627be-e084-4242-cce2-4178c2f90573"
      },
      "outputs": [
        {
          "output_type": "execute_result",
          "data": {
            "text/plain": [
              "((224, 224, 3), 5)"
            ]
          },
          "metadata": {},
          "execution_count": 42
        }
      ],
      "source": [
        "# set training parameters\n",
        "IMG_SHAPE = Xtrain.shape[1:]\n",
        "NUM_CLASSES = df['label'].nunique()\n",
        "NUM_EPOCHS = 10\n",
        "BATCH_SIZE=64\n",
        "IMG_SHAPE, NUM_CLASSES"
      ]
    },
    {
      "cell_type": "code",
      "execution_count": null,
      "metadata": {
        "id": "S0HqVKrf7Jj_"
      },
      "outputs": [],
      "source": []
    },
    {
      "cell_type": "markdown",
      "metadata": {
        "id": "tTeeuM017Jj_"
      },
      "source": [
        "### VGG16 Model"
      ]
    },
    {
      "cell_type": "code",
      "execution_count": null,
      "metadata": {
        "execution": {
          "iopub.execute_input": "2024-10-20T05:37:30.177204Z",
          "iopub.status.busy": "2024-10-20T05:37:30.176747Z",
          "iopub.status.idle": "2024-10-20T05:37:33.647937Z",
          "shell.execute_reply": "2024-10-20T05:37:33.647206Z",
          "shell.execute_reply.started": "2024-10-20T05:37:30.176988Z"
        },
        "id": "6nbAdP2k7Jj_",
        "colab": {
          "base_uri": "https://localhost:8080/"
        },
        "outputId": "093bf64d-29aa-4d6e-ed9e-cd1e1a41f75f"
      },
      "outputs": [
        {
          "output_type": "stream",
          "name": "stdout",
          "text": [
            "Downloading data from https://storage.googleapis.com/tensorflow/keras-applications/vgg16/vgg16_weights_tf_dim_ordering_tf_kernels_notop.h5\n",
            "\u001b[1m58889256/58889256\u001b[0m \u001b[32m━━━━━━━━━━━━━━━━━━━━\u001b[0m\u001b[37m\u001b[0m \u001b[1m3s\u001b[0m 0us/step\n"
          ]
        }
      ],
      "source": [
        "# clear session first\n",
        "tf.keras.backend.clear_session()\n",
        "\n",
        "\n",
        "# Maximum pooling reduces the dimensions by selecting the largest value in each feature map.\n",
        "vgg_base_model = VGG16(weights='imagenet', include_top=False, input_shape =IMG_SHAPE)\n",
        "\n",
        "#we will not train the first 15 layers to freeze the pre-trained part of the model and ensure that only newly added layers are trained.\n",
        "for layer in vgg_base_model.layers[:15]:\n",
        "    layer.trainable = False\n",
        "\n",
        "\n",
        "vgg_base = vgg_base_model.output\n",
        "vgg_base = GlobalAveragePooling2D()(vgg_base)\n",
        "vgg_base = Dense(512, activation = 'relu')(vgg_base)\n",
        "vgg_base = Dropout(0.2)(vgg_base)\n",
        "vgg_base = Dense(256, activation = 'relu')(vgg_base)\n",
        "vgg_base = Dense(128, activation = 'relu')(vgg_base)\n",
        "vgg_base = Dense(32, activation = 'relu')(vgg_base)\n",
        "vgg_out = Dense(NUM_CLASSES, activation = \"softmax\")(vgg_base)\n",
        "\n",
        "# merge the base and output head\n",
        "vgg_model = Model(inputs = vgg_base_model.input, outputs = vgg_out)"
      ]
    },
    {
      "cell_type": "code",
      "execution_count": null,
      "metadata": {
        "id": "lEBe9R6R7Jj_"
      },
      "outputs": [],
      "source": []
    },
    {
      "cell_type": "code",
      "execution_count": null,
      "metadata": {
        "execution": {
          "iopub.execute_input": "2024-10-20T05:37:33.649436Z",
          "iopub.status.busy": "2024-10-20T05:37:33.649129Z",
          "iopub.status.idle": "2024-10-20T05:37:33.660609Z",
          "shell.execute_reply": "2024-10-20T05:37:33.659746Z",
          "shell.execute_reply.started": "2024-10-20T05:37:33.649378Z"
        },
        "id": "E6tdHvTN7Jj_"
      },
      "outputs": [],
      "source": [
        "# check the model summary\n",
        "vgg_model.summary()"
      ]
    },
    {
      "cell_type": "code",
      "execution_count": null,
      "metadata": {
        "execution": {
          "iopub.execute_input": "2024-10-20T05:37:33.662071Z",
          "iopub.status.busy": "2024-10-20T05:37:33.661822Z",
          "iopub.status.idle": "2024-10-20T05:37:33.669519Z",
          "shell.execute_reply": "2024-10-20T05:37:33.668792Z",
          "shell.execute_reply.started": "2024-10-20T05:37:33.662018Z"
        },
        "id": "m-YIY9vx7Jj_"
      },
      "outputs": [],
      "source": [
        "from tensorflow.keras import backend as K\n",
        "# a function to get f1 score\n",
        "def f1(y_true, y_pred):\n",
        "    true_positives = K.sum(K.round(K.clip(y_true * y_pred, 0, 1)))\n",
        "    possible_positives = K.sum(K.round(K.clip(y_true, 0, 1)))\n",
        "    predicted_positives = K.sum(K.round(K.clip(y_pred, 0, 1)))\n",
        "\n",
        "    precision = true_positives / (predicted_positives + K.epsilon())\n",
        "    recall = true_positives / (possible_positives + K.epsilon())\n",
        "    f1 = 2 * (precision * recall) / (precision + recall + K.epsilon())\n",
        "    return f1\n",
        "\n"
      ]
    },
    {
      "cell_type": "code",
      "execution_count": null,
      "metadata": {
        "execution": {
          "iopub.execute_input": "2024-10-20T05:37:33.671062Z",
          "iopub.status.busy": "2024-10-20T05:37:33.670764Z",
          "iopub.status.idle": "2024-10-20T05:37:33.803195Z",
          "shell.execute_reply": "2024-10-20T05:37:33.802585Z",
          "shell.execute_reply.started": "2024-10-20T05:37:33.671001Z"
        },
        "id": "_V29xyGu7Jj_"
      },
      "outputs": [],
      "source": [
        "# Compile the model\n",
        "vgg_model.compile(optimizer='adam',\n",
        "                  loss='categorical_crossentropy',\n",
        "                  metrics=['accuracy', f1])\n"
      ]
    },
    {
      "cell_type": "code",
      "execution_count": null,
      "metadata": {
        "execution": {
          "iopub.execute_input": "2024-10-20T05:37:33.804679Z",
          "iopub.status.busy": "2024-10-20T05:37:33.804444Z",
          "iopub.status.idle": "2024-10-20T05:37:33.809179Z",
          "shell.execute_reply": "2024-10-20T05:37:33.808097Z",
          "shell.execute_reply.started": "2024-10-20T05:37:33.804638Z"
        },
        "id": "-wTnFvS-7JkA"
      },
      "outputs": [],
      "source": [
        "# to save best model, lets have a checkpoint\n",
        "vgg_checkpoint = ModelCheckpoint(\"utk_vgg16_model.h5\", save_best_only=True)\n",
        "vgg_callback = [EarlyStopping(patience=5, monitor='val_loss', verbose=1),vgg_checkpoint]"
      ]
    },
    {
      "cell_type": "code",
      "execution_count": null,
      "metadata": {
        "execution": {
          "iopub.execute_input": "2024-10-20T05:37:33.810769Z",
          "iopub.status.busy": "2024-10-20T05:37:33.810437Z",
          "iopub.status.idle": "2024-10-20T05:37:33.820769Z",
          "shell.execute_reply": "2024-10-20T05:37:33.819774Z",
          "shell.execute_reply.started": "2024-10-20T05:37:33.810720Z"
        },
        "id": "SIdfo9XM7JkA"
      },
      "outputs": [],
      "source": [
        "# check layers to train\n",
        "for layer in vgg_model.layers:\n",
        "    print(layer.name, layer.trainable)"
      ]
    },
    {
      "cell_type": "code",
      "execution_count": null,
      "metadata": {
        "execution": {
          "iopub.execute_input": "2024-10-20T05:37:33.822086Z",
          "iopub.status.busy": "2024-10-20T05:37:33.821737Z",
          "iopub.status.idle": "2024-10-20T05:37:33.831389Z",
          "shell.execute_reply": "2024-10-20T05:37:33.830725Z",
          "shell.execute_reply.started": "2024-10-20T05:37:33.821957Z"
        },
        "id": "nFKYwk-77JkA"
      },
      "outputs": [],
      "source": [
        "to_categorical(Ytrain).shape"
      ]
    },
    {
      "cell_type": "code",
      "execution_count": null,
      "metadata": {
        "execution": {
          "iopub.execute_input": "2024-10-20T05:37:33.832995Z",
          "iopub.status.busy": "2024-10-20T05:37:33.832705Z",
          "iopub.status.idle": "2024-10-20T05:38:10.116685Z",
          "shell.execute_reply": "2024-10-20T05:38:10.115813Z",
          "shell.execute_reply.started": "2024-10-20T05:37:33.832935Z"
        },
        "id": "tE3JUyR37JkA"
      },
      "outputs": [],
      "source": [
        "# train the model\n",
        "vgg_hist = vgg_model.fit(\n",
        "    Xtrain, to_categorical(Ytrain),\n",
        "    epochs=NUM_EPOCHS,\n",
        "    validation_data=(Xval, to_categorical(Yval)),\n",
        "    callbacks=vgg_callback,\n",
        "    batch_size=BATCH_SIZE\n",
        ")"
      ]
    },
    {
      "cell_type": "code",
      "execution_count": null,
      "metadata": {
        "execution": {
          "iopub.execute_input": "2024-10-20T05:38:10.118493Z",
          "iopub.status.busy": "2024-10-20T05:38:10.118145Z",
          "iopub.status.idle": "2024-10-20T05:38:10.123944Z",
          "shell.execute_reply": "2024-10-20T05:38:10.123098Z",
          "shell.execute_reply.started": "2024-10-20T05:38:10.118404Z"
        },
        "id": "efR3Qs-h7JkA"
      },
      "outputs": [],
      "source": [
        "vgg_hist.history.keys()\n"
      ]
    },
    {
      "cell_type": "code",
      "execution_count": null,
      "metadata": {
        "execution": {
          "iopub.execute_input": "2024-10-20T05:40:45.072415Z",
          "iopub.status.busy": "2024-10-20T05:40:45.072122Z",
          "iopub.status.idle": "2024-10-20T05:40:45.081612Z",
          "shell.execute_reply": "2024-10-20T05:40:45.080606Z",
          "shell.execute_reply.started": "2024-10-20T05:40:45.072372Z"
        },
        "id": "o0d6yXAq7JkA"
      },
      "outputs": [],
      "source": [
        "def plot_training_history(history, model_name):\n",
        "    acc = history['acc']\n",
        "    val_acc = history['val_acc']\n",
        "    f1 = history['f1']\n",
        "    val_f1 = history['val_f1']\n",
        "    loss = history['loss']\n",
        "    val_loss = history['val_loss']\n",
        "    epochs = range(len(acc))\n",
        "\n",
        "    fig, axes = plt.subplots(1, 3, figsize=(18,7))\n",
        "\n",
        "    axes[0].plot(epochs, acc, 'yo-', label='Training Accuracy')\n",
        "    axes[0].plot(epochs, val_acc, 'go--', label='Validation Accuracy')\n",
        "    axes[0].set_title('Training and Validation Accuracy')\n",
        "    axes[0].legend(loc='best')\n",
        "    axes[0].grid(False)\n",
        "\n",
        "    axes[1].plot(epochs, f1, 'ro-', label='Training F1')\n",
        "    axes[1].plot(epochs, val_f1, 'bo--', label='Validation F1')\n",
        "    axes[1].set_title('Training and Validation F1 Scores')\n",
        "    axes[1].legend(loc='best')\n",
        "    axes[1].grid(False)\n",
        "\n",
        "\n",
        "    axes[2].plot(epochs, loss, 'ko-', label='Training Loss')\n",
        "    axes[2].plot(epochs, val_loss, 'co--', label='Validation Loss')\n",
        "    axes[2].set_title('Training and Validation Loss')\n",
        "    axes[2].legend(loc='best')\n",
        "    axes[2].grid(False)\n",
        "\n",
        "    plt.suptitle(f\"Training and Validation Trends for {model_name}\", fontsize=17, fontweight='bold')\n",
        "\n",
        "\n",
        "\n",
        "    plt.show()\n"
      ]
    },
    {
      "cell_type": "code",
      "execution_count": null,
      "metadata": {
        "execution": {
          "iopub.execute_input": "2024-10-20T05:40:45.839465Z",
          "iopub.status.busy": "2024-10-20T05:40:45.839168Z",
          "iopub.status.idle": "2024-10-20T05:40:46.278410Z",
          "shell.execute_reply": "2024-10-20T05:40:46.277604Z",
          "shell.execute_reply.started": "2024-10-20T05:40:45.839408Z"
        },
        "id": "Wxa11JJf7JkA"
      },
      "outputs": [],
      "source": [
        "plot_training_history(vgg_hist.history, \"VGG16\")"
      ]
    },
    {
      "cell_type": "code",
      "execution_count": null,
      "metadata": {
        "id": "-5UvmCJn7JkA"
      },
      "outputs": [],
      "source": []
    },
    {
      "cell_type": "code",
      "execution_count": null,
      "metadata": {
        "execution": {
          "iopub.execute_input": "2024-10-20T05:41:47.556409Z",
          "iopub.status.busy": "2024-10-20T05:41:47.556045Z",
          "iopub.status.idle": "2024-10-20T05:41:47.567447Z",
          "shell.execute_reply": "2024-10-20T05:41:47.566459Z",
          "shell.execute_reply.started": "2024-10-20T05:41:47.556342Z"
        },
        "id": "JkeIxZRq7JkA"
      },
      "outputs": [],
      "source": [
        "\n",
        "# function to assess and visualize model performance\n",
        "def evaluate_model_performance(y_true, y_pred, model_name):\n",
        "    # show evaluation metrics\n",
        "    print(f\"\\n****** Evaluation Summary for {model_name} *********\\n\")\n",
        "    print(f\"Accuracy: {accuracy_score(y_true, y_pred):.4f}\")\n",
        "    print(f\"F1 Score: {f1_score(y_true, y_pred, average='weighted'):.4f}\")\n",
        "    print(f\"Recall Score: {recall_score(y_true, y_pred, average='weighted'):.4f}\")\n",
        "    print(f\"Precision Score: {precision_score(y_true, y_pred, average='weighted'):.4f}\\n\")\n",
        "\n",
        "    #act labels\n",
        "    class_labels =list(age_group_mapping.keys())\n",
        "\n",
        "    # get confusion matrix\n",
        "    confusion_mat = confusion_matrix(y_true, y_pred)\n",
        "    print(\"Classification Report:\")\n",
        "    print(classification_report(y_true, y_pred, target_names=class_labels))\n",
        "\n",
        "    # Visualize the confusion matrix\n",
        "    plt.figure(figsize=(7, 7))\n",
        "    sns.heatmap(confusion_mat, annot=True, fmt='', xticklabels=class_labels, yticklabels=class_labels, cbar=False)\n",
        "    plt.xlabel('True Labels', fontsize=15, fontweight='bold')\n",
        "    plt.ylabel('Predicted Labels', fontsize=16, fontweight='bold')\n",
        "    plt.title(f\"Confusion Matrix for {model_name}\", fontsize=16, fontweight='bold')\n",
        "    plt.xticks(rotation=45)\n",
        "    plt.yticks(rotation=45)\n",
        "    plt.show()\n",
        "\n",
        "\n",
        "# function to plot ROC AUC and Precision-Recall curves\n",
        "def plot_performance_curves(y_test, y_test_probs, model_name):\n",
        "    fig, axes = plt.subplots(1, 2, figsize=(18, 6))\n",
        "\n",
        "    # Plot ROC AUC curve\n",
        "    skplt.metrics.plot_roc_curve(y_test, y_test_probs, ax=axes[0])\n",
        "    axes[0].set_title('ROC Curve')\n",
        "\n",
        "    # Plot Precision-Recall curve\n",
        "    skplt.metrics.plot_precision_recall_curve(y_test, y_test_probs, ax=axes[1])\n",
        "    axes[1].set_title('Precision-Recall Curve')\n",
        "\n",
        "    plt.suptitle(f\"Performance Curves for Gender Classification using {model_name}\", fontweight='bold')\n",
        "    plt.show()\n"
      ]
    },
    {
      "cell_type": "code",
      "execution_count": null,
      "metadata": {
        "execution": {
          "iopub.execute_input": "2024-10-20T05:41:47.775734Z",
          "iopub.status.busy": "2024-10-20T05:41:47.775377Z",
          "iopub.status.idle": "2024-10-20T05:41:47.987149Z",
          "shell.execute_reply": "2024-10-20T05:41:47.986177Z",
          "shell.execute_reply.started": "2024-10-20T05:41:47.775670Z"
        },
        "id": "CMketGbz7JkA"
      },
      "outputs": [],
      "source": [
        "# load the best perfoming model\n",
        "vgg_model.load_weights('utk_vgg16_model.h5')"
      ]
    },
    {
      "cell_type": "code",
      "execution_count": null,
      "metadata": {
        "execution": {
          "iopub.execute_input": "2024-10-20T05:49:06.670998Z",
          "iopub.status.busy": "2024-10-20T05:49:06.670673Z",
          "iopub.status.idle": "2024-10-20T05:49:12.188336Z",
          "shell.execute_reply": "2024-10-20T05:49:12.187669Z",
          "shell.execute_reply.started": "2024-10-20T05:49:06.670935Z"
        },
        "id": "afWxm9Ct7JkA"
      },
      "outputs": [],
      "source": [
        "vgg_model.evaluate(Xtest, to_categorical(Ytest))"
      ]
    },
    {
      "cell_type": "code",
      "execution_count": null,
      "metadata": {
        "execution": {
          "iopub.execute_input": "2024-10-20T05:41:48.065329Z",
          "iopub.status.busy": "2024-10-20T05:41:48.065041Z",
          "iopub.status.idle": "2024-10-20T05:41:54.652296Z",
          "shell.execute_reply": "2024-10-20T05:41:54.651369Z",
          "shell.execute_reply.started": "2024-10-20T05:41:48.065287Z"
        },
        "id": "gHi17v9J7JkA"
      },
      "outputs": [],
      "source": [
        "# get  predictions on test\n",
        "vgg_test_preds = vgg_model.predict(Xtest)"
      ]
    },
    {
      "cell_type": "code",
      "execution_count": null,
      "metadata": {
        "execution": {
          "iopub.execute_input": "2024-10-20T05:41:54.654034Z",
          "iopub.status.busy": "2024-10-20T05:41:54.653773Z",
          "iopub.status.idle": "2024-10-20T05:41:55.050662Z",
          "shell.execute_reply": "2024-10-20T05:41:55.049757Z",
          "shell.execute_reply.started": "2024-10-20T05:41:54.653981Z"
        },
        "id": "58TnhZ857JkA"
      },
      "outputs": [],
      "source": [
        "\n",
        "evaluate_model_performance(Ytest, vgg_test_preds.argmax(axis=1), \"VGG16 MODEL\")"
      ]
    },
    {
      "cell_type": "code",
      "execution_count": null,
      "metadata": {
        "execution": {
          "iopub.execute_input": "2024-10-20T05:41:55.052352Z",
          "iopub.status.busy": "2024-10-20T05:41:55.051994Z",
          "iopub.status.idle": "2024-10-20T05:41:55.855109Z",
          "shell.execute_reply": "2024-10-20T05:41:55.854351Z",
          "shell.execute_reply.started": "2024-10-20T05:41:55.052285Z"
        },
        "id": "vxt59qBP7JkA"
      },
      "outputs": [],
      "source": [
        "\n",
        "plot_performance_curves(Ytest, vgg_test_preds, \"VGG16 MODEL\")"
      ]
    },
    {
      "cell_type": "code",
      "execution_count": null,
      "metadata": {
        "execution": {
          "iopub.execute_input": "2024-10-20T05:56:58.127978Z",
          "iopub.status.busy": "2024-10-20T05:56:58.127685Z",
          "iopub.status.idle": "2024-10-20T05:56:58.131891Z",
          "shell.execute_reply": "2024-10-20T05:56:58.131123Z",
          "shell.execute_reply.started": "2024-10-20T05:56:58.127933Z"
        },
        "id": "lLDuJAQO7JkA"
      },
      "outputs": [],
      "source": [
        "INVERSE_MAPPINGS = {v:k for k,v in age_group_mapping.items()}"
      ]
    },
    {
      "cell_type": "code",
      "execution_count": null,
      "metadata": {
        "id": "xP_LLa8G7JkA"
      },
      "outputs": [],
      "source": []
    },
    {
      "cell_type": "code",
      "execution_count": null,
      "metadata": {
        "execution": {
          "iopub.execute_input": "2024-10-20T07:50:04.060249Z",
          "iopub.status.busy": "2024-10-20T07:50:04.059960Z",
          "iopub.status.idle": "2024-10-20T07:50:04.069021Z",
          "shell.execute_reply": "2024-10-20T07:50:04.068131Z",
          "shell.execute_reply.started": "2024-10-20T07:50:04.060207Z"
        },
        "id": "8QdyFk4e7JkA"
      },
      "outputs": [],
      "source": [
        "def run_test_predictions(xtest=Xtest, ytest=Ytest, model=vgg_model, model_name=\"VGG16 MODEL\", n=32, cnn=True):\n",
        "    index=np.random.randint(low=0,high=2000,size=n)\n",
        "    fig=plt.figure(figsize=(20,12))\n",
        "    for i in range(n):\n",
        "        if cnn:\n",
        "            pred=model.predict(xtest[index[i]].reshape(1,IMG_SHAPE[0],IMG_SHAPE[1],IMG_SHAPE[2]), verbose=0)\n",
        "        else:\n",
        "            pred = model.predict_proba( xtest[index[i]].reshape(1, -1))\n",
        "        pred=np.argmax(pred)\n",
        "        actual=ytest[index[i]]\n",
        "        fig.add_subplot(n//8,8,i+1)\n",
        "        plt.xticks([])\n",
        "        plt.yticks([])\n",
        "        if actual==pred:\n",
        "            plt.title(f\"Pred: {INVERSE_MAPPINGS.get(pred)}\\nAct:{(INVERSE_MAPPINGS.get(actual))}\",color='green',fontsize=14,fontweight=\"bold\")\n",
        "        else:\n",
        "            plt.title(f\"Pred: {INVERSE_MAPPINGS.get(pred)}\\nAct: {(INVERSE_MAPPINGS.get(actual))}\",color='red',fontsize=14,fontweight=\"bold\")\n",
        "        plt.imshow(Xtest[index[i]],cmap='gray')\n",
        "    plt.suptitle(f\"SAMPLE PREDICTIONS FOR {model_name.upper()}\", fontweight=\"bold\", fontsize=15)"
      ]
    },
    {
      "cell_type": "code",
      "execution_count": null,
      "metadata": {
        "id": "P842Cgr_7JkA"
      },
      "outputs": [],
      "source": []
    },
    {
      "cell_type": "code",
      "execution_count": null,
      "metadata": {
        "execution": {
          "iopub.execute_input": "2024-10-20T07:50:05.787076Z",
          "iopub.status.busy": "2024-10-20T07:50:05.786792Z",
          "iopub.status.idle": "2024-10-20T07:50:08.388182Z",
          "shell.execute_reply": "2024-10-20T07:50:08.387455Z",
          "shell.execute_reply.started": "2024-10-20T07:50:05.787035Z"
        },
        "id": "3m5ETLcZ7JkA"
      },
      "outputs": [],
      "source": [
        "# visualize samples\n",
        "run_test_predictions(xtest=Xtest, ytest=Ytest, model=vgg_model, model_name=\"VGG16 MODEL\", n=32)"
      ]
    },
    {
      "cell_type": "code",
      "execution_count": null,
      "metadata": {
        "id": "SAvC6P0Y7JkA"
      },
      "outputs": [],
      "source": []
    },
    {
      "cell_type": "code",
      "execution_count": null,
      "metadata": {
        "execution": {
          "iopub.execute_input": "2024-10-20T07:17:41.108663Z",
          "iopub.status.busy": "2024-10-20T07:17:41.108168Z",
          "iopub.status.idle": "2024-10-20T07:17:49.801321Z",
          "shell.execute_reply": "2024-10-20T07:17:49.800623Z",
          "shell.execute_reply.started": "2024-10-20T07:17:41.108441Z"
        },
        "id": "qvYR_WgM7JkA"
      },
      "outputs": [],
      "source": []
    },
    {
      "cell_type": "markdown",
      "metadata": {
        "id": "Di5Ppc2Z7JkA"
      },
      "source": [
        "### RESNET50 Model"
      ]
    },
    {
      "cell_type": "code",
      "execution_count": null,
      "metadata": {
        "execution": {
          "iopub.execute_input": "2024-10-20T06:28:35.934155Z",
          "iopub.status.busy": "2024-10-20T06:28:35.933808Z",
          "iopub.status.idle": "2024-10-20T06:28:47.451156Z",
          "shell.execute_reply": "2024-10-20T06:28:47.450441Z",
          "shell.execute_reply.started": "2024-10-20T06:28:35.934097Z"
        },
        "id": "c-cQKtaH7JkA"
      },
      "outputs": [],
      "source": [
        "# get the ResNet50 architecture with pre-trained ImageNet weights, excluding the top layers\n",
        "base_model = ResNet50(weights='imagenet', include_top=False, input_shape=IMG_SHAPE)\n",
        "\n",
        "# Freeze the layers up to the end of the second residual block (conv3_block4_out)\n",
        "# for layer in base_model.layers:\n",
        "#     if 'conv4_block1' in layer.name:  # unfree from this block onwards\n",
        "#         break\n",
        "#     layer.trainable = False\n",
        "\n",
        "# add some custom layers on top of the base model\n",
        "x = GlobalAveragePooling2D()(base_model.output)\n",
        "x = Flatten()(x)\n",
        "x = Dense(1024, activation='relu', kernel_initializer='he_normal')(x)\n",
        "# x = Dropout(0.3)(x)\n",
        "x = Dense(512, activation='relu')(x)\n",
        "# x = Dropout(0.2)(x)\n",
        "x = Dense(256, activation='relu')(x)\n",
        "output = Dense(df[\"label\"].nunique(), activation='softmax')(x)\n",
        "\n",
        "\n",
        "# merge them for the final model\n",
        "resnet_model = Model(inputs=base_model.input, outputs=output)\n"
      ]
    },
    {
      "cell_type": "code",
      "execution_count": null,
      "metadata": {
        "execution": {
          "iopub.execute_input": "2024-10-20T06:28:47.452652Z",
          "iopub.status.busy": "2024-10-20T06:28:47.452361Z",
          "iopub.status.idle": "2024-10-20T06:28:47.456837Z",
          "shell.execute_reply": "2024-10-20T06:28:47.456200Z",
          "shell.execute_reply.started": "2024-10-20T06:28:47.452601Z"
        },
        "id": "RZ1XizmQ7JkB"
      },
      "outputs": [],
      "source": [
        "# check model shape\n",
        "print(f\"We have {len(resnet_model.layers)} Layes in the model\")"
      ]
    },
    {
      "cell_type": "code",
      "execution_count": null,
      "metadata": {
        "execution": {
          "iopub.execute_input": "2024-10-20T06:28:47.458416Z",
          "iopub.status.busy": "2024-10-20T06:28:47.458181Z",
          "iopub.status.idle": "2024-10-20T06:28:47.621173Z",
          "shell.execute_reply": "2024-10-20T06:28:47.620258Z",
          "shell.execute_reply.started": "2024-10-20T06:28:47.458369Z"
        },
        "id": "j7vwgwj87JkB"
      },
      "outputs": [],
      "source": [
        "# compile the model\n",
        "resnet_model.compile(optimizer='adam',\n",
        "              loss='categorical_crossentropy',\n",
        "              metrics=['accuracy', f1])"
      ]
    },
    {
      "cell_type": "code",
      "execution_count": null,
      "metadata": {
        "execution": {
          "iopub.execute_input": "2024-10-20T06:28:47.622837Z",
          "iopub.status.busy": "2024-10-20T06:28:47.622614Z",
          "iopub.status.idle": "2024-10-20T06:28:47.627019Z",
          "shell.execute_reply": "2024-10-20T06:28:47.626054Z",
          "shell.execute_reply.started": "2024-10-20T06:28:47.622799Z"
        },
        "id": "XbAtQQSt7JkB"
      },
      "outputs": [],
      "source": [
        "# to save best model, lets have a checkpoint\n",
        "resnet_checkpoint = ModelCheckpoint(\"utk_resnet50_model.h5\", save_best_only=True)\n",
        "resnet_callback = [EarlyStopping(patience=5, monitor='val_loss', verbose=1),resnet_checkpoint]"
      ]
    },
    {
      "cell_type": "code",
      "execution_count": null,
      "metadata": {
        "execution": {
          "iopub.execute_input": "2024-10-20T06:28:47.628668Z",
          "iopub.status.busy": "2024-10-20T06:28:47.628292Z",
          "iopub.status.idle": "2024-10-20T06:31:04.331176Z",
          "shell.execute_reply": "2024-10-20T06:31:04.330140Z",
          "shell.execute_reply.started": "2024-10-20T06:28:47.628612Z"
        },
        "id": "WKRL3VJq7JkB"
      },
      "outputs": [],
      "source": [
        "# train the resnet model\n",
        "restnet_hist = resnet_model.fit(\n",
        "    Xtrain, to_categorical(Ytrain),\n",
        "    epochs=NUM_EPOCHS,\n",
        "    validation_data=(Xval, to_categorical(Yval)),\n",
        "    callbacks=resnet_callback,\n",
        "    batch_size=BATCH_SIZE\n",
        ")"
      ]
    },
    {
      "cell_type": "code",
      "execution_count": null,
      "metadata": {
        "execution": {
          "iopub.execute_input": "2024-10-20T06:31:04.334017Z",
          "iopub.status.busy": "2024-10-20T06:31:04.333747Z",
          "iopub.status.idle": "2024-10-20T06:31:05.011818Z",
          "shell.execute_reply": "2024-10-20T06:31:05.010988Z",
          "shell.execute_reply.started": "2024-10-20T06:31:04.333965Z"
        },
        "id": "M4aU79OQ7JkB"
      },
      "outputs": [],
      "source": [
        "plot_training_history(restnet_hist.history, \"RESNET50 MODEL\")"
      ]
    },
    {
      "cell_type": "code",
      "execution_count": null,
      "metadata": {
        "execution": {
          "iopub.execute_input": "2024-10-20T06:31:05.013471Z",
          "iopub.status.busy": "2024-10-20T06:31:05.013184Z",
          "iopub.status.idle": "2024-10-20T06:31:08.910115Z",
          "shell.execute_reply": "2024-10-20T06:31:08.909205Z",
          "shell.execute_reply.started": "2024-10-20T06:31:05.013415Z"
        },
        "id": "VwVCbdqW7JkB"
      },
      "outputs": [],
      "source": [
        "# load the model\n",
        "resnet_model.load_weights(\"utk_resnet50_model.h5\")"
      ]
    },
    {
      "cell_type": "code",
      "execution_count": null,
      "metadata": {
        "execution": {
          "iopub.execute_input": "2024-10-20T06:31:08.912278Z",
          "iopub.status.busy": "2024-10-20T06:31:08.911964Z",
          "iopub.status.idle": "2024-10-20T06:31:13.920613Z",
          "shell.execute_reply": "2024-10-20T06:31:13.919903Z",
          "shell.execute_reply.started": "2024-10-20T06:31:08.912218Z"
        },
        "id": "X6tdom7B7JkB"
      },
      "outputs": [],
      "source": [
        "resnet_model.evaluate(Xtest, to_categorical(Ytest))"
      ]
    },
    {
      "cell_type": "code",
      "execution_count": null,
      "metadata": {
        "execution": {
          "iopub.execute_input": "2024-10-20T06:31:18.335405Z",
          "iopub.status.busy": "2024-10-20T06:31:18.335105Z",
          "iopub.status.idle": "2024-10-20T06:31:27.043505Z",
          "shell.execute_reply": "2024-10-20T06:31:27.042847Z",
          "shell.execute_reply.started": "2024-10-20T06:31:18.335358Z"
        },
        "id": "GQ_8e1q17JkB"
      },
      "outputs": [],
      "source": [
        "# get  predictions on test\n",
        "resnet_test_preds = resnet_model.predict(Xtest)\n"
      ]
    },
    {
      "cell_type": "code",
      "execution_count": null,
      "metadata": {
        "execution": {
          "iopub.execute_input": "2024-10-20T06:31:27.045157Z",
          "iopub.status.busy": "2024-10-20T06:31:27.044920Z",
          "iopub.status.idle": "2024-10-20T06:31:27.407243Z",
          "shell.execute_reply": "2024-10-20T06:31:27.406516Z",
          "shell.execute_reply.started": "2024-10-20T06:31:27.045110Z"
        },
        "id": "rqAxRCcl7JkB"
      },
      "outputs": [],
      "source": [
        "evaluate_model_performance(Ytest, resnet_test_preds.argmax(axis=1), \"RESNET50 MODEL\")\n"
      ]
    },
    {
      "cell_type": "code",
      "execution_count": null,
      "metadata": {
        "execution": {
          "iopub.execute_input": "2024-10-20T06:17:42.238638Z",
          "iopub.status.busy": "2024-10-20T06:17:42.238313Z",
          "iopub.status.idle": "2024-10-20T06:17:43.003235Z",
          "shell.execute_reply": "2024-10-20T06:17:43.002403Z",
          "shell.execute_reply.started": "2024-10-20T06:17:42.238586Z"
        },
        "id": "UkTMqmBz7JkB"
      },
      "outputs": [],
      "source": [
        "plot_performance_curves(Ytest, resnet_test_preds, \"RESNET50 MODEL\")"
      ]
    },
    {
      "cell_type": "code",
      "execution_count": null,
      "metadata": {
        "execution": {
          "iopub.execute_input": "2024-10-20T06:50:32.620633Z",
          "iopub.status.busy": "2024-10-20T06:50:32.620327Z",
          "iopub.status.idle": "2024-10-20T06:50:34.760780Z",
          "shell.execute_reply": "2024-10-20T06:50:34.760099Z",
          "shell.execute_reply.started": "2024-10-20T06:50:32.620580Z"
        },
        "id": "42eq9Mm57JkB"
      },
      "outputs": [],
      "source": [
        "# visualize samples\n",
        "run_test_predictions(xtest=Xtest, ytest=Ytest, model=resnet_model, model_name=\"RESNET50 MODEL\", n=32)"
      ]
    },
    {
      "cell_type": "code",
      "execution_count": null,
      "metadata": {
        "id": "Fu-8zCib7JkB"
      },
      "outputs": [],
      "source": []
    },
    {
      "cell_type": "markdown",
      "metadata": {
        "id": "6G3fEsIQ7JkB"
      },
      "source": [
        "### CLassical Machine Learning models\n",
        "- The main goal of the project was to investigate how perfomance of classical models differs from pretrained models.\n",
        "- A **pre-trained ResNet model** is used to extract flat features for classical machine learning models, followed by **PCA for dimensionality reduction**.\n",
        "- This approach investigates the performance of **classical models (SVM, Random Forest, and Logistic Regression)** compared to deep learning models.\n",
        "\n",
        "### Feature Extraction with VGG16 and Classical Models Training\n",
        "\n",
        "1. **Feature Extraction with VGG16**:  \n",
        "   - The **VGG16** model is loaded without its top (classification) layers using `include_top=False`.\n",
        "   - This allows us to extract meaningful **feature maps** from the input images. The feature maps are **flattened** into 2D matrices.\n",
        "\n",
        "2. **Dimensionality Reduction with PCA**:  \n",
        "   - **PCA** helps in reducing the high-dimensional feature vectors extracted from VGG16 into a lower-dimensional space (100 features in this example).  \n",
        "   - For **training**, the PCA model is fitted, while for testing, the same PCA transformation is applied to ensure consistency.\n",
        "\n",
        "3. **Classical Machine Learning Models**:  \n",
        "   - **SVM**: Works well for small datasets with high-dimensional input.  \n",
        "   - **Random Forest**: A strong ensemble model that performs well across different feature sets.  \n",
        "   - **Logistic Regression**: Serves as a baseline for performance comparison.\n",
        "\n"
      ]
    },
    {
      "cell_type": "code",
      "execution_count": null,
      "metadata": {
        "execution": {
          "iopub.execute_input": "2024-10-20T07:21:10.121593Z",
          "iopub.status.busy": "2024-10-20T07:21:10.121248Z",
          "iopub.status.idle": "2024-10-20T07:21:17.845468Z",
          "shell.execute_reply": "2024-10-20T07:21:17.844842Z",
          "shell.execute_reply.started": "2024-10-20T07:21:10.121537Z"
        },
        "id": "Rns2b5LK7JkB"
      },
      "outputs": [],
      "source": [
        "from sklearn.decomposition import PCA\n",
        "# we want to get 250 features after dimension reductions\n",
        "REDUCED_FEATURES = 250\n",
        "\n",
        "# Step 1: load the VGG16 model without the top classification layers\n",
        "vgg_base = VGG16(weights='imagenet', include_top=False, input_shape=IMG_SHAPE)\n",
        "feature_extractor = Model(inputs=vgg_base.input, outputs=vgg_base.output)\n",
        "\n",
        "# Step 2: a function to extracting features and applying PCA reduction\n",
        "def extract_important_flat_features(extractor_model, dataset, components=REDUCED_FEATURES, fit_pca=True, pca_model=None):\n",
        "    # get feature maps from the pretrained model\n",
        "    raw_features = extractor_model.predict(dataset)\n",
        "    flattened_features = raw_features.reshape(raw_features.shape[0], -1)\n",
        "\n",
        "    if fit_pca:\n",
        "        # fit and apply PCA for dimensionality reduction\n",
        "        pca_model = PCA(n_components=components)\n",
        "        transformed_features = pca_model.fit_transform(flattened_features)\n",
        "    else:\n",
        "        # use provided PCA model to transform the dataset\n",
        "        if pca_model is None:\n",
        "            raise ValueError(\"PCA model must be supplied for testing.\")\n",
        "        transformed_features = pca_model.transform(flattened_features)\n",
        "\n",
        "    return transformed_features, pca_model\n"
      ]
    },
    {
      "cell_type": "code",
      "execution_count": null,
      "metadata": {
        "execution": {
          "iopub.execute_input": "2024-10-20T07:21:17.846801Z",
          "iopub.status.busy": "2024-10-20T07:21:17.846588Z",
          "iopub.status.idle": "2024-10-20T07:21:56.671208Z",
          "shell.execute_reply": "2024-10-20T07:21:56.670068Z",
          "shell.execute_reply.started": "2024-10-20T07:21:17.846764Z"
        },
        "id": "Rzswk6pc7JkB"
      },
      "outputs": [],
      "source": [
        "# extract features from VGG16 and apply PCA\n",
        "Xtrain_features, pca_ = extract_important_flat_features(feature_extractor, Xtrain, fit_pca=True)\n",
        "Xtest_features, _ = extract_important_flat_features(feature_extractor, Xtest, fit_pca=False, pca_model=pca_)\n"
      ]
    },
    {
      "cell_type": "code",
      "execution_count": null,
      "metadata": {
        "execution": {
          "iopub.execute_input": "2024-10-20T07:21:56.673115Z",
          "iopub.status.busy": "2024-10-20T07:21:56.672603Z",
          "iopub.status.idle": "2024-10-20T07:21:56.679915Z",
          "shell.execute_reply": "2024-10-20T07:21:56.679036Z",
          "shell.execute_reply.started": "2024-10-20T07:21:56.673062Z"
        },
        "id": "23DDATDb7JkB"
      },
      "outputs": [],
      "source": [
        "# check their shape\n",
        "Xtrain_features.shape,Xtest_features.shape, Ytrain.shape, Ytest.shape"
      ]
    },
    {
      "cell_type": "code",
      "execution_count": null,
      "metadata": {
        "id": "bcqt1RGM7JkB"
      },
      "outputs": [],
      "source": []
    },
    {
      "cell_type": "code",
      "execution_count": null,
      "metadata": {
        "execution": {
          "iopub.execute_input": "2024-10-20T07:23:41.541586Z",
          "iopub.status.busy": "2024-10-20T07:23:41.541277Z",
          "iopub.status.idle": "2024-10-20T07:23:41.545352Z",
          "shell.execute_reply": "2024-10-20T07:23:41.544647Z",
          "shell.execute_reply.started": "2024-10-20T07:23:41.541540Z"
        },
        "id": "96icNLNM7JkB"
      },
      "outputs": [],
      "source": [
        "from sklearn.svm import SVC\n",
        "from sklearn.ensemble import RandomForestClassifier\n",
        "from sklearn.linear_model import LogisticRegression\n"
      ]
    },
    {
      "cell_type": "markdown",
      "metadata": {
        "id": "lM2tE3Cs7JkB"
      },
      "source": [
        "#### 1. Random Forest Classifier"
      ]
    },
    {
      "cell_type": "code",
      "execution_count": null,
      "metadata": {
        "execution": {
          "iopub.execute_input": "2024-10-20T07:25:40.204704Z",
          "iopub.status.busy": "2024-10-20T07:25:40.204363Z",
          "iopub.status.idle": "2024-10-20T07:27:00.893415Z",
          "shell.execute_reply": "2024-10-20T07:27:00.892726Z",
          "shell.execute_reply.started": "2024-10-20T07:25:40.204644Z"
        },
        "id": "IYvPCt0w7JkB"
      },
      "outputs": [],
      "source": [
        "# define the object\n",
        "random_clf = RandomForestClassifier(n_estimators=1500, random_state=2024)\n",
        "# train\n",
        "random_clf.fit(Xtrain_features, Ytrain)\n",
        "# eval\n",
        "random_clf.score(Xtest_features, Ytest)"
      ]
    },
    {
      "cell_type": "code",
      "execution_count": null,
      "metadata": {
        "execution": {
          "iopub.execute_input": "2024-10-20T07:27:00.894973Z",
          "iopub.status.busy": "2024-10-20T07:27:00.894762Z",
          "iopub.status.idle": "2024-10-20T07:27:01.612160Z",
          "shell.execute_reply": "2024-10-20T07:27:01.611550Z",
          "shell.execute_reply.started": "2024-10-20T07:27:00.894936Z"
        },
        "id": "6n3Juc0A7JkB"
      },
      "outputs": [],
      "source": [
        "# get predition\n",
        "random_probs = random_clf.predict_proba(Xtest_features)"
      ]
    },
    {
      "cell_type": "code",
      "execution_count": null,
      "metadata": {
        "execution": {
          "iopub.execute_input": "2024-10-20T07:27:11.073318Z",
          "iopub.status.busy": "2024-10-20T07:27:11.073021Z",
          "iopub.status.idle": "2024-10-20T07:27:11.440397Z",
          "shell.execute_reply": "2024-10-20T07:27:11.439674Z",
          "shell.execute_reply.started": "2024-10-20T07:27:11.073274Z"
        },
        "id": "tP2pZQdQ7JkB"
      },
      "outputs": [],
      "source": [
        "# run eval\n",
        "evaluate_model_performance(Ytest, random_probs.argmax(axis=1), \"RANDOM FOREST MODEL\")"
      ]
    },
    {
      "cell_type": "code",
      "execution_count": null,
      "metadata": {
        "execution": {
          "iopub.execute_input": "2024-10-20T07:27:21.819869Z",
          "iopub.status.busy": "2024-10-20T07:27:21.819424Z",
          "iopub.status.idle": "2024-10-20T07:27:22.368299Z",
          "shell.execute_reply": "2024-10-20T07:27:22.367581Z",
          "shell.execute_reply.started": "2024-10-20T07:27:21.819802Z"
        },
        "id": "qEXEQPYO7JkB"
      },
      "outputs": [],
      "source": [
        "plot_performance_curves(Ytest, random_probs, \"RANDOM FOREST MODEL\")"
      ]
    },
    {
      "cell_type": "code",
      "execution_count": null,
      "metadata": {
        "execution": {
          "iopub.execute_input": "2024-10-20T07:50:56.720301Z",
          "iopub.status.busy": "2024-10-20T07:50:56.719924Z",
          "iopub.status.idle": "2024-10-20T07:51:02.043804Z",
          "shell.execute_reply": "2024-10-20T07:51:02.043000Z",
          "shell.execute_reply.started": "2024-10-20T07:50:56.720241Z"
        },
        "id": "LiZjy_6Y7JkB"
      },
      "outputs": [],
      "source": [
        "# run some tests\n",
        "run_test_predictions(xtest=Xtest_features, ytest=Ytest, model=random_clf, model_name=\"Random MODEL\", n=32, cnn=False)"
      ]
    },
    {
      "cell_type": "markdown",
      "metadata": {
        "id": "ahwBVuU57JkB"
      },
      "source": [
        "### Logistic Regression Model"
      ]
    },
    {
      "cell_type": "code",
      "execution_count": null,
      "metadata": {
        "execution": {
          "iopub.execute_input": "2024-10-20T07:38:36.292940Z",
          "iopub.status.busy": "2024-10-20T07:38:36.292604Z",
          "iopub.status.idle": "2024-10-20T07:38:37.558180Z",
          "shell.execute_reply": "2024-10-20T07:38:37.556994Z",
          "shell.execute_reply.started": "2024-10-20T07:38:36.292877Z"
        },
        "id": "mJDCg7aa7JkB"
      },
      "outputs": [],
      "source": [
        "# define the object\n",
        "log_clf = LogisticRegression(random_state=2024)\n",
        "# train\n",
        "log_clf.fit(Xtrain_features, Ytrain)\n",
        "# eval\n",
        "log_clf.score(Xtest_features, Ytest)"
      ]
    },
    {
      "cell_type": "code",
      "execution_count": null,
      "metadata": {
        "execution": {
          "iopub.execute_input": "2024-10-20T07:39:11.868094Z",
          "iopub.status.busy": "2024-10-20T07:39:11.867782Z",
          "iopub.status.idle": "2024-10-20T07:39:11.876032Z",
          "shell.execute_reply": "2024-10-20T07:39:11.874949Z",
          "shell.execute_reply.started": "2024-10-20T07:39:11.868037Z"
        },
        "id": "YNpZ67sS7JkB"
      },
      "outputs": [],
      "source": [
        "# get predition\n",
        "log_probs = log_clf.predict_proba(Xtest_features)"
      ]
    },
    {
      "cell_type": "code",
      "execution_count": null,
      "metadata": {
        "execution": {
          "iopub.execute_input": "2024-10-20T07:39:35.400488Z",
          "iopub.status.busy": "2024-10-20T07:39:35.400190Z",
          "iopub.status.idle": "2024-10-20T07:39:35.767681Z",
          "shell.execute_reply": "2024-10-20T07:39:35.766963Z",
          "shell.execute_reply.started": "2024-10-20T07:39:35.400431Z"
        },
        "id": "l7GTksTf7JkC"
      },
      "outputs": [],
      "source": [
        "# run eval\n",
        "evaluate_model_performance(Ytest, log_probs.argmax(axis=1), \"Logistic Regression MODEL\")"
      ]
    },
    {
      "cell_type": "code",
      "execution_count": null,
      "metadata": {
        "execution": {
          "iopub.execute_input": "2024-10-20T07:40:18.887107Z",
          "iopub.status.busy": "2024-10-20T07:40:18.886825Z",
          "iopub.status.idle": "2024-10-20T07:40:19.690067Z",
          "shell.execute_reply": "2024-10-20T07:40:19.689140Z",
          "shell.execute_reply.started": "2024-10-20T07:40:18.887068Z"
        },
        "id": "0nqOtqPp7JkC"
      },
      "outputs": [],
      "source": [
        "plot_performance_curves(Ytest, log_probs, \"LOGISTIC REGRESSION MODEL\")"
      ]
    },
    {
      "cell_type": "code",
      "execution_count": null,
      "metadata": {
        "execution": {
          "iopub.execute_input": "2024-10-20T07:50:40.417058Z",
          "iopub.status.busy": "2024-10-20T07:50:40.416766Z",
          "iopub.status.idle": "2024-10-20T07:50:42.225994Z",
          "shell.execute_reply": "2024-10-20T07:50:42.225251Z",
          "shell.execute_reply.started": "2024-10-20T07:50:40.417016Z"
        },
        "id": "yJkkepZg7JkC"
      },
      "outputs": [],
      "source": [
        "# run some tests\n",
        "run_test_predictions(xtest=Xtest_features, ytest=Ytest, model=log_clf, model_name=\"LOG MODEL\", n=32, cnn=False)"
      ]
    },
    {
      "cell_type": "markdown",
      "metadata": {
        "id": "VKBuZB4A7JkC"
      },
      "source": [
        "### SVM Model"
      ]
    },
    {
      "cell_type": "code",
      "execution_count": null,
      "metadata": {
        "execution": {
          "iopub.execute_input": "2024-10-20T07:41:08.143568Z",
          "iopub.status.busy": "2024-10-20T07:41:08.143238Z",
          "iopub.status.idle": "2024-10-20T07:43:51.470999Z",
          "shell.execute_reply": "2024-10-20T07:43:51.470087Z",
          "shell.execute_reply.started": "2024-10-20T07:41:08.143503Z"
        },
        "id": "QmEuf0Qj7JkC"
      },
      "outputs": [],
      "source": [
        "# Train SVM\n",
        "svm_clf = SVC(kernel='linear', probability=True, random_state=42)\n",
        "svm_clf.fit(Xtrain_features, Ytrain)\n",
        "svm_clf.score(Xtest_features, Ytest)"
      ]
    },
    {
      "cell_type": "code",
      "execution_count": null,
      "metadata": {
        "execution": {
          "iopub.execute_input": "2024-10-20T07:43:51.472388Z",
          "iopub.status.busy": "2024-10-20T07:43:51.472139Z",
          "iopub.status.idle": "2024-10-20T07:43:52.461118Z",
          "shell.execute_reply": "2024-10-20T07:43:52.460341Z",
          "shell.execute_reply.started": "2024-10-20T07:43:51.472339Z"
        },
        "id": "G0mBR6Ht7JkC"
      },
      "outputs": [],
      "source": [
        "# get probs\n",
        "svm_probs = svm_clf.predict_proba(Xtest_features)"
      ]
    },
    {
      "cell_type": "code",
      "execution_count": null,
      "metadata": {
        "execution": {
          "iopub.execute_input": "2024-10-20T07:43:52.462566Z",
          "iopub.status.busy": "2024-10-20T07:43:52.462310Z",
          "iopub.status.idle": "2024-10-20T07:43:52.827026Z",
          "shell.execute_reply": "2024-10-20T07:43:52.826374Z",
          "shell.execute_reply.started": "2024-10-20T07:43:52.462522Z"
        },
        "id": "SA2th8527JkC"
      },
      "outputs": [],
      "source": [
        "# run evaluatuion\n",
        "evaluate_model_performance(Ytest, svm_probs.argmax(axis=1), \"SVM MODEL\")"
      ]
    },
    {
      "cell_type": "code",
      "execution_count": null,
      "metadata": {
        "execution": {
          "iopub.execute_input": "2024-10-20T07:43:52.828325Z",
          "iopub.status.busy": "2024-10-20T07:43:52.828012Z",
          "iopub.status.idle": "2024-10-20T07:43:53.633066Z",
          "shell.execute_reply": "2024-10-20T07:43:53.632333Z",
          "shell.execute_reply.started": "2024-10-20T07:43:52.828289Z"
        },
        "id": "i-mtU5P07JkC"
      },
      "outputs": [],
      "source": [
        "plot_performance_curves(Ytest, svm_probs, \"SVM MODEL\")"
      ]
    },
    {
      "cell_type": "code",
      "execution_count": null,
      "metadata": {
        "execution": {
          "iopub.execute_input": "2024-10-20T07:50:14.818700Z",
          "iopub.status.busy": "2024-10-20T07:50:14.818372Z",
          "iopub.status.idle": "2024-10-20T07:50:17.223074Z",
          "shell.execute_reply": "2024-10-20T07:50:17.222259Z",
          "shell.execute_reply.started": "2024-10-20T07:50:14.818654Z"
        },
        "id": "0PHKjJmc7JkC"
      },
      "outputs": [],
      "source": [
        "# run some tests\n",
        "run_test_predictions(xtest=Xtest_features, ytest=Ytest, model=svm_clf, model_name=\"SVM MODEL\", n=32, cnn=False)"
      ]
    },
    {
      "cell_type": "code",
      "execution_count": null,
      "metadata": {
        "id": "RvZjG1cw7JkC"
      },
      "outputs": [],
      "source": []
    },
    {
      "cell_type": "markdown",
      "metadata": {
        "id": "wPw3vW_u7JkC"
      },
      "source": [
        "### Model Comparison\n",
        "In this section, we evaluate the performance of both classical machine learning models (SVM, Logistic Regression, Random Forest) and pretrained deep learning models (VGG16, ResNet50). Our primary goal is to investigate how classical models perform in comparison to pretrained models when using extracted facial features for classification.\n",
        "\n",
        "To facilitate a comprehensive comparison, we generate a performance table that summarizes key metrics—**accuracy, F1 score, precision, recall, Cohen’s kappa, and AUC**—for each model. This table allows us to easily compare the strengths and weaknesses of the models across different metrics, providing clearer insights into their effectiveness."
      ]
    },
    {
      "cell_type": "code",
      "execution_count": null,
      "metadata": {
        "execution": {
          "iopub.execute_input": "2024-10-20T08:08:23.313301Z",
          "iopub.status.busy": "2024-10-20T08:08:23.312955Z",
          "iopub.status.idle": "2024-10-20T08:08:23.358748Z",
          "shell.execute_reply": "2024-10-20T08:08:23.358148Z",
          "shell.execute_reply.started": "2024-10-20T08:08:23.313239Z"
        },
        "id": "cwlMkIHc7JkC"
      },
      "outputs": [],
      "source": [
        "# a function to evaluate the model’s performance\n",
        "def evaluate_model_performance(y_true, y_probs, model_name):\n",
        "    \"\"\"Evaluates performance metrics for a model and returns them in a dictionary.\"\"\"\n",
        "    y_pred = np.argmax(y_probs, axis=1)\n",
        "\n",
        "    f1 = f1_score(y_true, y_pred, average='weighted')\n",
        "    precision = precision_score(y_true, y_pred, average='weighted')\n",
        "    recall = recall_score(y_true, y_pred, average='weighted')\n",
        "    accuracy = accuracy_score(y_true, y_pred)\n",
        "    kappa = cohen_kappa_score(y_true, y_pred)\n",
        "\n",
        "    return {\n",
        "        'Model': model_name,\n",
        "        'Accuracy': round(accuracy, 4),\n",
        "        'F1 Score': round(f1, 4),\n",
        "        'Precision': round(precision, 4),\n",
        "        'Recall': round(recall, 4),\n",
        "        'Kappa': round(kappa, 4),\n",
        "    }\n",
        "\n",
        "\n",
        "# collect performance metrics for all models\n",
        "results = []\n",
        "results.append(evaluate_model_performance(Ytest, svm_probs, \"SVM\"))\n",
        "results.append(evaluate_model_performance(Ytest, log_probs, \"Logistic Regression\"))\n",
        "results.append(evaluate_model_performance(Ytest, random_probs, \"Random Forest\"))\n",
        "results.append(evaluate_model_performance(Ytest, vgg_test_preds, \"VGG16\"))\n",
        "results.append(evaluate_model_performance(Ytest, resnet_test_preds, \"ResNet50\"))\n",
        "\n",
        "performance_table = pd.DataFrame(results)[[\"Model\", \"Accuracy\", \"F1 Score\", \"Precision\", \"Recall\", \"Kappa\"]]\n"
      ]
    },
    {
      "cell_type": "code",
      "execution_count": null,
      "metadata": {
        "execution": {
          "iopub.execute_input": "2024-10-20T08:08:24.028644Z",
          "iopub.status.busy": "2024-10-20T08:08:24.028306Z",
          "iopub.status.idle": "2024-10-20T08:08:24.047780Z",
          "shell.execute_reply": "2024-10-20T08:08:24.046976Z",
          "shell.execute_reply.started": "2024-10-20T08:08:24.028584Z"
        },
        "id": "7XdNCeU97JkC"
      },
      "outputs": [],
      "source": [
        "performance_table"
      ]
    },
    {
      "cell_type": "code",
      "execution_count": null,
      "metadata": {
        "execution": {
          "iopub.execute_input": "2024-10-20T08:09:12.513438Z",
          "iopub.status.busy": "2024-10-20T08:09:12.513148Z",
          "iopub.status.idle": "2024-10-20T08:09:12.533839Z",
          "shell.execute_reply": "2024-10-20T08:09:12.532940Z",
          "shell.execute_reply.started": "2024-10-20T08:09:12.513392Z"
        },
        "id": "i8NxGWF77JkC"
      },
      "outputs": [],
      "source": [
        "# sort by kapp\n",
        "performance_table.sort_values(by=\"Kappa\", ascending=False)"
      ]
    },
    {
      "cell_type": "code",
      "execution_count": null,
      "metadata": {
        "id": "0NKk0VUp7JkC"
      },
      "outputs": [],
      "source": []
    }
  ],
  "metadata": {
    "kaggle": {
      "accelerator": "gpu",
      "dataSources": [
        {
          "datasetId": 44109,
          "sourceId": 78156,
          "sourceType": "datasetVersion"
        }
      ],
      "dockerImageVersionId": 18199,
      "isGpuEnabled": true,
      "isInternetEnabled": true,
      "language": "python",
      "sourceType": "notebook"
    },
    "kernelspec": {
      "display_name": "Python 3",
      "language": "python",
      "name": "python3"
    },
    "language_info": {
      "codemirror_mode": {
        "name": "ipython",
        "version": 3
      },
      "file_extension": ".py",
      "mimetype": "text/x-python",
      "name": "python",
      "nbconvert_exporter": "python",
      "pygments_lexer": "ipython3",
      "version": "3.12.7"
    },
    "colab": {
      "provenance": []
    }
  },
  "nbformat": 4,
  "nbformat_minor": 0
}